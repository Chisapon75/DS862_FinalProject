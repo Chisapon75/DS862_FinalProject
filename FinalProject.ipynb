{
 "cells": [
  {
   "cell_type": "markdown",
   "metadata": {
    "id": "AHVEJVw361o-"
   },
   "source": [
    "# **DS862 - Final Project**\n",
    "\n",
    "2020-12-13\n",
    "*   Aditya Tamhankar\n",
    "*   Chisako Tani\n",
    "*   Claire Vu\n",
    "\n",
    "\n",
    "\n"
   ]
  },
  {
   "cell_type": "markdown",
   "metadata": {
    "id": "rsVEtubB8Hnc"
   },
   "source": [
    "## **1 - Introduction**"
   ]
  },
  {
   "cell_type": "markdown",
   "metadata": {
    "id": "3plROd3a7kYe"
   },
   "source": [
    "**Topic:** Identifying key environmental issues and the degree of measures taken by various regions"
   ]
  },
  {
   "cell_type": "markdown",
   "metadata": {
    "id": "cBYW1sni7zsB"
   },
   "source": [
    "**Goal:** The goal of this project is to identify key environmental issues and how each region deal with them (ie. plans to reduce city-wide emissions, enhance water security, etc.) with the help of data mining, visualizations and clustering techniques."
   ]
  },
  {
   "cell_type": "markdown",
   "metadata": {
    "id": "PsB9KFfd78ED"
   },
   "source": [
    "**Motivation**: This topic is inspired by an Kaggle competition hosted by CDP called[ “Unlocking Climate Solution: City-Business Collaboration for a Sustainable Future”](https://www.kaggle.com/c/cdp-unlocking-climate-solutions/overview). We picked this topic because not only do we want to challenge ourselves in a real-life data contest, but it also is our chance to work on a meaningful project that would help make positive environmental impacts. "
   ]
  },
  {
   "cell_type": "markdown",
   "metadata": {
    "id": "E-yXWYEHhUyL"
   },
   "source": [
    "**Overview of CDP**: [CDP](https://www.cdp.net/en) is a non-profit organization that researches and manages environmental action globally for investors, companies and cities. CDP has the world's largest and most comprehensive data based on environmental action, which is constantly updated through its annual survey of companies and cities around the world on how they are addressing environmental issues. Using this data, they ran an analytics competition on kaggle from October to December of this year."
   ]
  },
  {
   "cell_type": "markdown",
   "metadata": {
    "id": "xOajycg6l0kn"
   },
   "source": [
    "**Structure of the Questionnaire by CDP:** The questionnaire by CDP is in the format shown in the PDF below. Some questions are multiple choice, some are open-ended, and some have a table with choices and text fields for each question.\n",
    "\n",
    "In the case of multiple-choice questions, the answers are simply stored in the \"Response Answer\" column of the csv. In the case of a question with an answer table, the \"Question Number\", \"Column Number\", and \"Row Number\" can be used to identify which question and which table is answered."
   ]
  },
  {
   "cell_type": "markdown",
   "metadata": {
    "id": "uqZjbo1DTwJl"
   },
   "source": [
    "<img src=\"question.png\">"
   ]
  },
  {
   "cell_type": "markdown",
   "metadata": {
    "id": "ZZVJO5-_8m9B"
   },
   "source": [
    "## **2 - About the Data**"
   ]
  },
  {
   "cell_type": "markdown",
   "metadata": {
    "id": "9Nt4_1UglbRW"
   },
   "source": [
    "CDP has released the following data based on three different surveys: 1) corporate climate change disclosures, 2) corporate water security disclosures, and 3) disclosures from cities. These data are available for the years 2018-2020, for a total of nine files.\n",
    "\n",
    "For this project, we decided to use the data from cities because we wanted to know if there were differences in the way different regions and countries dealt with environmental issues. A secondary reason was that the data published by CDP is huge, several hundred megabytes per file, and we needed to narrow down the scope of the project to be realistic."
   ]
  },
  {
   "cell_type": "code",
   "execution_count": 1,
   "metadata": {
    "id": "JmiWk555Z26o"
   },
   "outputs": [],
   "source": [
    "import pandas as pd"
   ]
  },
  {
   "cell_type": "code",
   "execution_count": 3,
   "metadata": {
    "id": "XxiYAQzCZ26s"
   },
   "outputs": [
    {
     "data": {
      "text/html": [
       "<div>\n",
       "<style scoped>\n",
       "    .dataframe tbody tr th:only-of-type {\n",
       "        vertical-align: middle;\n",
       "    }\n",
       "\n",
       "    .dataframe tbody tr th {\n",
       "        vertical-align: top;\n",
       "    }\n",
       "\n",
       "    .dataframe thead th {\n",
       "        text-align: right;\n",
       "    }\n",
       "</style>\n",
       "<table border=\"1\" class=\"dataframe\">\n",
       "  <thead>\n",
       "    <tr style=\"text-align: right;\">\n",
       "      <th></th>\n",
       "      <th>Unnamed: 0</th>\n",
       "      <th>Question Number</th>\n",
       "      <th>Question Name</th>\n",
       "      <th>Question Category 1</th>\n",
       "      <th>Question Category 2</th>\n",
       "      <th>Question Type</th>\n",
       "      <th>Sequential?</th>\n",
       "      <th>Can be used for Project?</th>\n",
       "    </tr>\n",
       "  </thead>\n",
       "  <tbody>\n",
       "    <tr>\n",
       "      <th>0</th>\n",
       "      <td>424.0</td>\n",
       "      <td>0.1</td>\n",
       "      <td>Please give a general description and introduc...</td>\n",
       "      <td>Introduction</td>\n",
       "      <td>Introduction</td>\n",
       "      <td>With Table</td>\n",
       "      <td>No</td>\n",
       "      <td>NaN</td>\n",
       "    </tr>\n",
       "    <tr>\n",
       "      <th>1</th>\n",
       "      <td>1451.0</td>\n",
       "      <td>0.2</td>\n",
       "      <td>If you have not previously submitted your Lett...</td>\n",
       "      <td>Introduction</td>\n",
       "      <td>Introduction</td>\n",
       "      <td>Not in PDF</td>\n",
       "      <td>-</td>\n",
       "      <td>NaN</td>\n",
       "    </tr>\n",
       "    <tr>\n",
       "      <th>2</th>\n",
       "      <td>111.0</td>\n",
       "      <td>0.3</td>\n",
       "      <td>Please provide information about your city’s M...</td>\n",
       "      <td>Introduction</td>\n",
       "      <td>Introduction</td>\n",
       "      <td>With Table</td>\n",
       "      <td>No</td>\n",
       "      <td>NaN</td>\n",
       "    </tr>\n",
       "    <tr>\n",
       "      <th>3</th>\n",
       "      <td>265.0</td>\n",
       "      <td>0.4</td>\n",
       "      <td>Please select the currency used for all financ...</td>\n",
       "      <td>Introduction</td>\n",
       "      <td>Introduction</td>\n",
       "      <td>With Table</td>\n",
       "      <td>No</td>\n",
       "      <td>NaN</td>\n",
       "    </tr>\n",
       "    <tr>\n",
       "      <th>4</th>\n",
       "      <td>163.0</td>\n",
       "      <td>0.5</td>\n",
       "      <td>Please provide details of your city’s current ...</td>\n",
       "      <td>Introduction</td>\n",
       "      <td>Introduction</td>\n",
       "      <td>With Table</td>\n",
       "      <td>No</td>\n",
       "      <td>NaN</td>\n",
       "    </tr>\n",
       "    <tr>\n",
       "      <th>...</th>\n",
       "      <td>...</td>\n",
       "      <td>...</td>\n",
       "      <td>...</td>\n",
       "      <td>...</td>\n",
       "      <td>...</td>\n",
       "      <td>...</td>\n",
       "      <td>...</td>\n",
       "      <td>...</td>\n",
       "    </tr>\n",
       "    <tr>\n",
       "      <th>994</th>\n",
       "      <td>NaN</td>\n",
       "      <td>NaN</td>\n",
       "      <td>NaN</td>\n",
       "      <td>NaN</td>\n",
       "      <td>NaN</td>\n",
       "      <td>NaN</td>\n",
       "      <td>NaN</td>\n",
       "      <td>NaN</td>\n",
       "    </tr>\n",
       "    <tr>\n",
       "      <th>995</th>\n",
       "      <td>NaN</td>\n",
       "      <td>NaN</td>\n",
       "      <td>NaN</td>\n",
       "      <td>NaN</td>\n",
       "      <td>NaN</td>\n",
       "      <td>NaN</td>\n",
       "      <td>NaN</td>\n",
       "      <td>NaN</td>\n",
       "    </tr>\n",
       "    <tr>\n",
       "      <th>996</th>\n",
       "      <td>NaN</td>\n",
       "      <td>NaN</td>\n",
       "      <td>NaN</td>\n",
       "      <td>NaN</td>\n",
       "      <td>NaN</td>\n",
       "      <td>NaN</td>\n",
       "      <td>NaN</td>\n",
       "      <td>NaN</td>\n",
       "    </tr>\n",
       "    <tr>\n",
       "      <th>997</th>\n",
       "      <td>NaN</td>\n",
       "      <td>NaN</td>\n",
       "      <td>NaN</td>\n",
       "      <td>NaN</td>\n",
       "      <td>NaN</td>\n",
       "      <td>NaN</td>\n",
       "      <td>NaN</td>\n",
       "      <td>NaN</td>\n",
       "    </tr>\n",
       "    <tr>\n",
       "      <th>998</th>\n",
       "      <td>NaN</td>\n",
       "      <td>NaN</td>\n",
       "      <td>NaN</td>\n",
       "      <td>NaN</td>\n",
       "      <td>NaN</td>\n",
       "      <td>NaN</td>\n",
       "      <td>NaN</td>\n",
       "      <td>NaN</td>\n",
       "    </tr>\n",
       "  </tbody>\n",
       "</table>\n",
       "<p>999 rows × 8 columns</p>\n",
       "</div>"
      ],
      "text/plain": [
       "     Unnamed: 0 Question Number  \\\n",
       "0         424.0             0.1   \n",
       "1        1451.0             0.2   \n",
       "2         111.0             0.3   \n",
       "3         265.0             0.4   \n",
       "4         163.0             0.5   \n",
       "..          ...             ...   \n",
       "994         NaN             NaN   \n",
       "995         NaN             NaN   \n",
       "996         NaN             NaN   \n",
       "997         NaN             NaN   \n",
       "998         NaN             NaN   \n",
       "\n",
       "                                         Question Name Question Category 1  \\\n",
       "0    Please give a general description and introduc...        Introduction   \n",
       "1    If you have not previously submitted your Lett...        Introduction   \n",
       "2    Please provide information about your city’s M...        Introduction   \n",
       "3    Please select the currency used for all financ...        Introduction   \n",
       "4    Please provide details of your city’s current ...        Introduction   \n",
       "..                                                 ...                 ...   \n",
       "994                                                NaN                 NaN   \n",
       "995                                                NaN                 NaN   \n",
       "996                                                NaN                 NaN   \n",
       "997                                                NaN                 NaN   \n",
       "998                                                NaN                 NaN   \n",
       "\n",
       "    Question Category 2 Question Type Sequential? Can be used for Project?  \n",
       "0          Introduction    With Table          No                      NaN  \n",
       "1          Introduction    Not in PDF           -                      NaN  \n",
       "2          Introduction    With Table          No                      NaN  \n",
       "3          Introduction    With Table          No                      NaN  \n",
       "4          Introduction    With Table          No                      NaN  \n",
       "..                  ...           ...         ...                      ...  \n",
       "994                 NaN           NaN         NaN                      NaN  \n",
       "995                 NaN           NaN         NaN                      NaN  \n",
       "996                 NaN           NaN         NaN                      NaN  \n",
       "997                 NaN           NaN         NaN                      NaN  \n",
       "998                 NaN           NaN         NaN                      NaN  \n",
       "\n",
       "[999 rows x 8 columns]"
      ]
     },
     "execution_count": 3,
     "metadata": {},
     "output_type": "execute_result"
    }
   ],
   "source": [
    "data = pd.read_csv('2019_Full_Cities_Dataset.csv') \n",
    "questions = pd.read_csv('2019_Questions_Summary.csv')\n",
    "questions"
   ]
  },
  {
   "cell_type": "markdown",
   "metadata": {
    "id": "4cOaa1OwSLYZ"
   },
   "source": [
    "\"2019_Questions_Summary.csv\" is our own data to organize the questions listed in the PDF, including question number and question content, category, question type, whether it is a follow-up question or not, and whether it can be used for our analysis (marked with '*')."
   ]
  },
  {
   "cell_type": "code",
   "execution_count": 3,
   "metadata": {
    "colab": {
     "base_uri": "https://localhost:8080/",
     "height": 451
    },
    "id": "hgBcsiGNSGCP",
    "outputId": "56510d12-ebde-4780-8e3f-8cd72d783cc5"
   },
   "outputs": [
    {
     "data": {
      "text/html": [
       "<div>\n",
       "<style scoped>\n",
       "    .dataframe tbody tr th:only-of-type {\n",
       "        vertical-align: middle;\n",
       "    }\n",
       "\n",
       "    .dataframe tbody tr th {\n",
       "        vertical-align: top;\n",
       "    }\n",
       "\n",
       "    .dataframe thead th {\n",
       "        text-align: right;\n",
       "    }\n",
       "</style>\n",
       "<table border=\"1\" class=\"dataframe\">\n",
       "  <thead>\n",
       "    <tr style=\"text-align: right;\">\n",
       "      <th></th>\n",
       "      <th>Questionnaire</th>\n",
       "      <th>Year Reported to CDP</th>\n",
       "      <th>Account Number</th>\n",
       "      <th>Organization</th>\n",
       "      <th>Country</th>\n",
       "      <th>CDP Region</th>\n",
       "      <th>Parent Section</th>\n",
       "      <th>Section</th>\n",
       "      <th>Question Number</th>\n",
       "      <th>Question Name</th>\n",
       "      <th>Column Number</th>\n",
       "      <th>Column Name</th>\n",
       "      <th>Row Number</th>\n",
       "      <th>Row Name</th>\n",
       "      <th>Response Answer</th>\n",
       "      <th>Comments</th>\n",
       "      <th>File Name</th>\n",
       "      <th>Last update</th>\n",
       "    </tr>\n",
       "  </thead>\n",
       "  <tbody>\n",
       "    <tr>\n",
       "      <th>0</th>\n",
       "      <td>Cities 2019</td>\n",
       "      <td>2019</td>\n",
       "      <td>54113</td>\n",
       "      <td>City of Flagstaff</td>\n",
       "      <td>United States of America</td>\n",
       "      <td>North America</td>\n",
       "      <td>NaN</td>\n",
       "      <td>Energy</td>\n",
       "      <td>8.0a</td>\n",
       "      <td>Please provide details of your renewable energ...</td>\n",
       "      <td>2</td>\n",
       "      <td>Energy / electricity types covered by target</td>\n",
       "      <td>3</td>\n",
       "      <td>NaN</td>\n",
       "      <td>Other: Proportion of community electricity use...</td>\n",
       "      <td>NaN</td>\n",
       "      <td>NaN</td>\n",
       "      <td>24/06/2020 05:30:36 AM</td>\n",
       "    </tr>\n",
       "    <tr>\n",
       "      <th>1</th>\n",
       "      <td>Cities 2019</td>\n",
       "      <td>2019</td>\n",
       "      <td>35894</td>\n",
       "      <td>Ville de Montreal</td>\n",
       "      <td>Canada</td>\n",
       "      <td>North America</td>\n",
       "      <td>Emissions Reduction</td>\n",
       "      <td>Mitigation Actions</td>\n",
       "      <td>5.4</td>\n",
       "      <td>Describe the anticipated outcomes of the most ...</td>\n",
       "      <td>9</td>\n",
       "      <td>Co-benefit area</td>\n",
       "      <td>1</td>\n",
       "      <td>NaN</td>\n",
       "      <td>NaN</td>\n",
       "      <td>source: http://ville.montreal.qc.ca/pls/portal...</td>\n",
       "      <td>NaN</td>\n",
       "      <td>24/06/2020 05:30:36 AM</td>\n",
       "    </tr>\n",
       "    <tr>\n",
       "      <th>2</th>\n",
       "      <td>Cities 2019</td>\n",
       "      <td>2019</td>\n",
       "      <td>44185</td>\n",
       "      <td>Suwon City</td>\n",
       "      <td>Republic of Korea</td>\n",
       "      <td>East Asia</td>\n",
       "      <td>Emissions Reduction</td>\n",
       "      <td>Mitigation Target setting</td>\n",
       "      <td>5.0a</td>\n",
       "      <td>Please provide details of your total city-wide...</td>\n",
       "      <td>3</td>\n",
       "      <td>Boundary of target relative to city boundary (...</td>\n",
       "      <td>1</td>\n",
       "      <td>NaN</td>\n",
       "      <td>Same – covers entire city and nothing else</td>\n",
       "      <td>NaN</td>\n",
       "      <td>NaN</td>\n",
       "      <td>24/06/2020 05:30:36 AM</td>\n",
       "    </tr>\n",
       "  </tbody>\n",
       "</table>\n",
       "</div>"
      ],
      "text/plain": [
       "  Questionnaire  Year Reported to CDP  Account Number       Organization  \\\n",
       "0   Cities 2019                  2019           54113  City of Flagstaff   \n",
       "1   Cities 2019                  2019           35894  Ville de Montreal   \n",
       "2   Cities 2019                  2019           44185         Suwon City   \n",
       "\n",
       "                    Country     CDP Region       Parent Section  \\\n",
       "0  United States of America  North America                  NaN   \n",
       "1                    Canada  North America  Emissions Reduction   \n",
       "2         Republic of Korea      East Asia  Emissions Reduction   \n",
       "\n",
       "                     Section Question Number  \\\n",
       "0                     Energy            8.0a   \n",
       "1         Mitigation Actions             5.4   \n",
       "2  Mitigation Target setting            5.0a   \n",
       "\n",
       "                                       Question Name  Column Number  \\\n",
       "0  Please provide details of your renewable energ...              2   \n",
       "1  Describe the anticipated outcomes of the most ...              9   \n",
       "2  Please provide details of your total city-wide...              3   \n",
       "\n",
       "                                         Column Name  Row Number Row Name  \\\n",
       "0       Energy / electricity types covered by target           3      NaN   \n",
       "1                                    Co-benefit area           1      NaN   \n",
       "2  Boundary of target relative to city boundary (...           1      NaN   \n",
       "\n",
       "                                     Response Answer  \\\n",
       "0  Other: Proportion of community electricity use...   \n",
       "1                                                NaN   \n",
       "2         Same – covers entire city and nothing else   \n",
       "\n",
       "                                            Comments File Name  \\\n",
       "0                                                NaN       NaN   \n",
       "1  source: http://ville.montreal.qc.ca/pls/portal...       NaN   \n",
       "2                                                NaN       NaN   \n",
       "\n",
       "              Last update  \n",
       "0  24/06/2020 05:30:36 AM  \n",
       "1  24/06/2020 05:30:36 AM  \n",
       "2  24/06/2020 05:30:36 AM  "
      ]
     },
     "execution_count": 3,
     "metadata": {},
     "output_type": "execute_result"
    }
   ],
   "source": [
    "data.head(3)"
   ]
  },
  {
   "cell_type": "code",
   "execution_count": 4,
   "metadata": {
    "colab": {
     "base_uri": "https://localhost:8080/"
    },
    "id": "mWH12L5sSEGd",
    "outputId": "2e77998e-40b8-4016-a55f-351bb71644ad"
   },
   "outputs": [
    {
     "name": "stdout",
     "output_type": "stream",
     "text": [
      "(486349, 18)\n",
      "8\n",
      "93\n",
      "814\n",
      "9\n",
      "29\n",
      "157\n"
     ]
    }
   ],
   "source": [
    "print(data.shape)\n",
    "print(data.groupby(['CDP Region'])['CDP Region'].nunique().sum())\n",
    "print(data.groupby(['Country']).Country.nunique().sum())\n",
    "print(data.groupby(['Organization']).Organization.nunique().sum())\n",
    "print(data.groupby(['Parent Section'])['Parent Section'].nunique().sum())\n",
    "print(data.groupby(['Section']).Section.nunique().sum())\n",
    "print(data.groupby(['Question Number'])['Question Number'].nunique().sum())"
   ]
  },
  {
   "cell_type": "markdown",
   "metadata": {
    "id": "lxB382eoT9_D"
   },
   "source": [
    "As indicated above, the survey covered 8 areas of the world, 93 countries, and 814 cities responded. Also, there are 157 questions, each of which is divided into 9 categories and 29 subcategories."
   ]
  },
  {
   "cell_type": "markdown",
   "metadata": {
    "id": "HzUDzBqg2mS2"
   },
   "source": [
    "## **3 - Exploratory Analysis**\n",
    "\n",
    "In this section, we will explore the data and each region's approach to environmental issues through charts.\n",
    "\n",
    "Since there are 157 questions included in the data, we decided to use Tableau for visualization. For the analysis, we used the same csv that was loaded above. Among the charts drawn for each question, we will pick up the charts that show differences by region, especially for each question category."
   ]
  },
  {
   "cell_type": "markdown",
   "metadata": {
    "id": "oTNQ6fA8V-5W"
   },
   "source": [
    "The following graph shows the breakdown by region of the 814 cities that participated in the survey. It can be seen that cities in Latin America responded particularly well, and cities in Asia responded less.\n",
    "\n",
    "Because of the variation in the number of participants in each region, we will use percentages in the visualization that follows.\n",
    "\n"
   ]
  },
  {
   "cell_type": "code",
   "execution_count": 5,
   "metadata": {
    "colab": {
     "base_uri": "https://localhost:8080/",
     "height": 360
    },
    "id": "1Qt4PeT12sco",
    "outputId": "8793b544-c975-4f18-9a0c-7e339d61cd4a"
   },
   "outputs": [
    {
     "data": {
      "text/html": [
       "<div class='tableauPlaceholder' id='viz1607842002943' style='position: relative'><noscript><a href='#'><img alt=' ' src='https:&#47;&#47;public.tableau.com&#47;static&#47;images&#47;Bo&#47;Book3_16078417496350&#47;Respondents&#47;1_rss.png' style='border: none' /></a></noscript><object class='tableauViz'  style='display:none;'><param name='host_url' value='https%3A%2F%2Fpublic.tableau.com%2F' /> <param name='embed_code_version' value='3' /> <param name='site_root' value='' /><param name='name' value='Book3_16078417496350&#47;Respondents' /><param name='tabs' value='no' /><param name='toolbar' value='yes' /><param name='static_image' value='https:&#47;&#47;public.tableau.com&#47;static&#47;images&#47;Bo&#47;Book3_16078417496350&#47;Respondents&#47;1.png' /> <param name='animate_transition' value='yes' /><param name='display_static_image' value='yes' /><param name='display_spinner' value='yes' /><param name='display_overlay' value='yes' /><param name='display_count' value='yes' /><param name='language' value='en' /></object></div>                <script type='text/javascript'>                    var divElement = document.getElementById('viz1607842002943');                    var vizElement = divElement.getElementsByTagName('object')[0];                    vizElement.style.width='100%';vizElement.style.height=(divElement.offsetWidth*0.40)+'px';                    var scriptElement = document.createElement('script');                    scriptElement.src = 'https://public.tableau.com/javascripts/api/viz_v1.js';                    vizElement.parentNode.insertBefore(scriptElement, vizElement);                </script>\n"
      ],
      "text/plain": [
       "<IPython.core.display.HTML object>"
      ]
     },
     "metadata": {},
     "output_type": "display_data"
    }
   ],
   "source": [
    "%%HTML\n",
    "<div class='tableauPlaceholder' id='viz1607842002943' style='position: relative'><noscript><a href='#'><img alt=' ' src='https:&#47;&#47;public.tableau.com&#47;static&#47;images&#47;Bo&#47;Book3_16078417496350&#47;Respondents&#47;1_rss.png' style='border: none' /></a></noscript><object class='tableauViz'  style='display:none;'><param name='host_url' value='https%3A%2F%2Fpublic.tableau.com%2F' /> <param name='embed_code_version' value='3' /> <param name='site_root' value='' /><param name='name' value='Book3_16078417496350&#47;Respondents' /><param name='tabs' value='no' /><param name='toolbar' value='yes' /><param name='static_image' value='https:&#47;&#47;public.tableau.com&#47;static&#47;images&#47;Bo&#47;Book3_16078417496350&#47;Respondents&#47;1.png' /> <param name='animate_transition' value='yes' /><param name='display_static_image' value='yes' /><param name='display_spinner' value='yes' /><param name='display_overlay' value='yes' /><param name='display_count' value='yes' /><param name='language' value='en' /></object></div>                <script type='text/javascript'>                    var divElement = document.getElementById('viz1607842002943');                    var vizElement = divElement.getElementsByTagName('object')[0];                    vizElement.style.width='100%';vizElement.style.height=(divElement.offsetWidth*0.40)+'px';                    var scriptElement = document.createElement('script');                    scriptElement.src = 'https://public.tableau.com/javascripts/api/viz_v1.js';                    vizElement.parentNode.insertBefore(scriptElement, vizElement);                </script>"
   ]
  },
  {
   "cell_type": "markdown",
   "metadata": {
    "id": "nGi3xcjaRETg"
   },
   "source": [
    "### 3.1 - Governance & Data Management\n",
    "As you can clearly see, the majority of cities answered \"Yes\". However, in Latin America and the Middle East, the percentage of \"Yes\" responses was lower than in other regions."
   ]
  },
  {
   "cell_type": "code",
   "execution_count": 6,
   "metadata": {
    "colab": {
     "base_uri": "https://localhost:8080/",
     "height": 360
    },
    "id": "U-l3SCSBRVwW",
    "outputId": "8e23bb6a-e553-4e7f-f079-01510ccaa6ab"
   },
   "outputs": [
    {
     "data": {
      "text/html": [
       "<div class='tableauPlaceholder' id='viz1607849103418' style='position: relative'><noscript><a href='#'><img alt=' ' src='https:&#47;&#47;public.tableau.com&#47;static&#47;images&#47;Bo&#47;Book3_16078417496350&#47;Q1_0&#47;1_rss.png' style='border: none' /></a></noscript><object class='tableauViz'  style='display:none;'><param name='host_url' value='https%3A%2F%2Fpublic.tableau.com%2F' /> <param name='embed_code_version' value='3' /> <param name='site_root' value='' /><param name='name' value='Book3_16078417496350&#47;Q1_0' /><param name='tabs' value='no' /><param name='toolbar' value='yes' /><param name='static_image' value='https:&#47;&#47;public.tableau.com&#47;static&#47;images&#47;Bo&#47;Book3_16078417496350&#47;Q1_0&#47;1.png' /> <param name='animate_transition' value='yes' /><param name='display_static_image' value='yes' /><param name='display_spinner' value='yes' /><param name='display_overlay' value='yes' /><param name='display_count' value='yes' /><param name='language' value='en' /></object></div>                <script type='text/javascript'>                    var divElement = document.getElementById('viz1607849103418');                    var vizElement = divElement.getElementsByTagName('object')[0];                    vizElement.style.width='100%';vizElement.style.height=(divElement.offsetWidth*0.40)+'px';                    var scriptElement = document.createElement('script');                    scriptElement.src = 'https://public.tableau.com/javascripts/api/viz_v1.js';                    vizElement.parentNode.insertBefore(scriptElement, vizElement);                </script>\n"
      ],
      "text/plain": [
       "<IPython.core.display.HTML object>"
      ]
     },
     "metadata": {},
     "output_type": "display_data"
    }
   ],
   "source": [
    "%%HTML\n",
    "<div class='tableauPlaceholder' id='viz1607849103418' style='position: relative'><noscript><a href='#'><img alt=' ' src='https:&#47;&#47;public.tableau.com&#47;static&#47;images&#47;Bo&#47;Book3_16078417496350&#47;Q1_0&#47;1_rss.png' style='border: none' /></a></noscript><object class='tableauViz'  style='display:none;'><param name='host_url' value='https%3A%2F%2Fpublic.tableau.com%2F' /> <param name='embed_code_version' value='3' /> <param name='site_root' value='' /><param name='name' value='Book3_16078417496350&#47;Q1_0' /><param name='tabs' value='no' /><param name='toolbar' value='yes' /><param name='static_image' value='https:&#47;&#47;public.tableau.com&#47;static&#47;images&#47;Bo&#47;Book3_16078417496350&#47;Q1_0&#47;1.png' /> <param name='animate_transition' value='yes' /><param name='display_static_image' value='yes' /><param name='display_spinner' value='yes' /><param name='display_overlay' value='yes' /><param name='display_count' value='yes' /><param name='language' value='en' /></object></div>                <script type='text/javascript'>                    var divElement = document.getElementById('viz1607849103418');                    var vizElement = divElement.getElementsByTagName('object')[0];                    vizElement.style.width='100%';vizElement.style.height=(divElement.offsetWidth*0.40)+'px';                    var scriptElement = document.createElement('script');                    scriptElement.src = 'https://public.tableau.com/javascripts/api/viz_v1.js';                    vizElement.parentNode.insertBefore(scriptElement, vizElement);                </script>"
   ]
  },
  {
   "cell_type": "markdown",
   "metadata": {
    "id": "-ayHoX3Xqeca"
   },
   "source": [
    "Here, Africa and South and West Asia have different characteristics from the others. In Africa, adaptation targets ranked first, while in South and West Asia, waste management ranked first."
   ]
  },
  {
   "cell_type": "code",
   "execution_count": 7,
   "metadata": {
    "colab": {
     "base_uri": "https://localhost:8080/",
     "height": 531
    },
    "id": "6KfXyG2Z5rX1",
    "outputId": "188f5e0a-10a7-486a-87f0-d455f8ed6b7d"
   },
   "outputs": [
    {
     "data": {
      "text/html": [
       "<div class='tableauPlaceholder' id='viz1607842855512' style='position: relative'><noscript><a href='#'><img alt=' ' src='https:&#47;&#47;public.tableau.com&#47;static&#47;images&#47;Bo&#47;Book3_16078417496350&#47;Q1_0a&#47;1_rss.png' style='border: none' /></a></noscript><object class='tableauViz'  style='display:none;'><param name='host_url' value='https%3A%2F%2Fpublic.tableau.com%2F' /> <param name='embed_code_version' value='3' /> <param name='site_root' value='' /><param name='name' value='Book3_16078417496350&#47;Q1_0a' /><param name='tabs' value='no' /><param name='toolbar' value='yes' /><param name='static_image' value='https:&#47;&#47;public.tableau.com&#47;static&#47;images&#47;Bo&#47;Book3_16078417496350&#47;Q1_0a&#47;1.png' /> <param name='animate_transition' value='yes' /><param name='display_static_image' value='yes' /><param name='display_spinner' value='yes' /><param name='display_overlay' value='yes' /><param name='display_count' value='yes' /><param name='language' value='en' /></object></div>                <script type='text/javascript'>                    var divElement = document.getElementById('viz1607842855512');                    var vizElement = divElement.getElementsByTagName('object')[0];                    vizElement.style.width='100%';vizElement.style.height=(divElement.offsetWidth*0.60)+'px';                    var scriptElement = document.createElement('script');                    scriptElement.src = 'https://public.tableau.com/javascripts/api/viz_v1.js';                    vizElement.parentNode.insertBefore(scriptElement, vizElement);                </script>\n"
      ],
      "text/plain": [
       "<IPython.core.display.HTML object>"
      ]
     },
     "metadata": {},
     "output_type": "display_data"
    }
   ],
   "source": [
    "%%HTML\n",
    "<div class='tableauPlaceholder' id='viz1607842855512' style='position: relative'><noscript><a href='#'><img alt=' ' src='https:&#47;&#47;public.tableau.com&#47;static&#47;images&#47;Bo&#47;Book3_16078417496350&#47;Q1_0a&#47;1_rss.png' style='border: none' /></a></noscript><object class='tableauViz'  style='display:none;'><param name='host_url' value='https%3A%2F%2Fpublic.tableau.com%2F' /> <param name='embed_code_version' value='3' /> <param name='site_root' value='' /><param name='name' value='Book3_16078417496350&#47;Q1_0a' /><param name='tabs' value='no' /><param name='toolbar' value='yes' /><param name='static_image' value='https:&#47;&#47;public.tableau.com&#47;static&#47;images&#47;Bo&#47;Book3_16078417496350&#47;Q1_0a&#47;1.png' /> <param name='animate_transition' value='yes' /><param name='display_static_image' value='yes' /><param name='display_spinner' value='yes' /><param name='display_overlay' value='yes' /><param name='display_count' value='yes' /><param name='language' value='en' /></object></div>                <script type='text/javascript'>                    var divElement = document.getElementById('viz1607842855512');                    var vizElement = divElement.getElementsByTagName('object')[0];                    vizElement.style.width='100%';vizElement.style.height=(divElement.offsetWidth*0.60)+'px';                    var scriptElement = document.createElement('script');                    scriptElement.src = 'https://public.tableau.com/javascripts/api/viz_v1.js';                    vizElement.parentNode.insertBefore(scriptElement, vizElement);                </script>"
   ]
  },
  {
   "cell_type": "markdown",
   "metadata": {
    "id": "NXg-kMy00y-u"
   },
   "source": [
    "As for the tools used, Excel still accounts for a large percentage, indicating that a unified tool or methodology is not widespread."
   ]
  },
  {
   "cell_type": "code",
   "execution_count": 8,
   "metadata": {
    "colab": {
     "base_uri": "https://localhost:8080/",
     "height": 360
    },
    "id": "mGygTf2BSh6e",
    "outputId": "e08d8cc7-829d-44db-c79b-41a41af91b55"
   },
   "outputs": [
    {
     "data": {
      "text/html": [
       "<div class='tableauPlaceholder' id='viz1607849331694' style='position: relative'><noscript><a href='#'><img alt=' ' src='https:&#47;&#47;public.tableau.com&#47;static&#47;images&#47;Bo&#47;Book3_16078417496350&#47;Q1_12&#47;1_rss.png' style='border: none' /></a></noscript><object class='tableauViz'  style='display:none;'><param name='host_url' value='https%3A%2F%2Fpublic.tableau.com%2F' /> <param name='embed_code_version' value='3' /> <param name='site_root' value='' /><param name='name' value='Book3_16078417496350&#47;Q1_12' /><param name='tabs' value='no' /><param name='toolbar' value='yes' /><param name='static_image' value='https:&#47;&#47;public.tableau.com&#47;static&#47;images&#47;Bo&#47;Book3_16078417496350&#47;Q1_12&#47;1.png' /> <param name='animate_transition' value='yes' /><param name='display_static_image' value='yes' /><param name='display_spinner' value='yes' /><param name='display_overlay' value='yes' /><param name='display_count' value='yes' /><param name='language' value='en' /></object></div>                <script type='text/javascript'>                    var divElement = document.getElementById('viz1607849331694');                    var vizElement = divElement.getElementsByTagName('object')[0];                    vizElement.style.width='100%';vizElement.style.height=(divElement.offsetWidth*0.40)+'px';                    var scriptElement = document.createElement('script');                    scriptElement.src = 'https://public.tableau.com/javascripts/api/viz_v1.js';                    vizElement.parentNode.insertBefore(scriptElement, vizElement);                </script>\n"
      ],
      "text/plain": [
       "<IPython.core.display.HTML object>"
      ]
     },
     "metadata": {},
     "output_type": "display_data"
    }
   ],
   "source": [
    "%%HTML\n",
    "<div class='tableauPlaceholder' id='viz1607849331694' style='position: relative'><noscript><a href='#'><img alt=' ' src='https:&#47;&#47;public.tableau.com&#47;static&#47;images&#47;Bo&#47;Book3_16078417496350&#47;Q1_12&#47;1_rss.png' style='border: none' /></a></noscript><object class='tableauViz'  style='display:none;'><param name='host_url' value='https%3A%2F%2Fpublic.tableau.com%2F' /> <param name='embed_code_version' value='3' /> <param name='site_root' value='' /><param name='name' value='Book3_16078417496350&#47;Q1_12' /><param name='tabs' value='no' /><param name='toolbar' value='yes' /><param name='static_image' value='https:&#47;&#47;public.tableau.com&#47;static&#47;images&#47;Bo&#47;Book3_16078417496350&#47;Q1_12&#47;1.png' /> <param name='animate_transition' value='yes' /><param name='display_static_image' value='yes' /><param name='display_spinner' value='yes' /><param name='display_overlay' value='yes' /><param name='display_count' value='yes' /><param name='language' value='en' /></object></div>                <script type='text/javascript'>                    var divElement = document.getElementById('viz1607849331694');                    var vizElement = divElement.getElementsByTagName('object')[0];                    vizElement.style.width='100%';vizElement.style.height=(divElement.offsetWidth*0.40)+'px';                    var scriptElement = document.createElement('script');                    scriptElement.src = 'https://public.tableau.com/javascripts/api/viz_v1.js';                    vizElement.parentNode.insertBefore(scriptElement, vizElement);                </script>"
   ]
  },
  {
   "cell_type": "markdown",
   "metadata": {
    "id": "x_WJxR_JVjFU"
   },
   "source": [
    "### 3.2 - Climate Hazards and Vulnerability\n",
    "What is interesting about this graph is that the disincentives for environmental initiatives vary greatly by region. For example, poverty is a major factor in Africa, while rapid urbanization is a challenge in South and West Asia, and budgetary issues are a major factor in North America and Europe."
   ]
  },
  {
   "cell_type": "code",
   "execution_count": 9,
   "metadata": {
    "colab": {
     "base_uri": "https://localhost:8080/",
     "height": 531
    },
    "id": "wnc62AuJVvud",
    "outputId": "fde604b5-2062-479f-d860-472df95aa859"
   },
   "outputs": [
    {
     "data": {
      "text/html": [
       "<div class='tableauPlaceholder' id='viz1607908010543' style='position: relative'><noscript><a href='#'><img alt=' ' src='https:&#47;&#47;public.tableau.com&#47;static&#47;images&#47;Bo&#47;Book3_16078417496350&#47;Q2_2&#47;1_rss.png' style='border: none' /></a></noscript><object class='tableauViz'  style='display:none;'><param name='host_url' value='https%3A%2F%2Fpublic.tableau.com%2F' /> <param name='embed_code_version' value='3' /> <param name='site_root' value='' /><param name='name' value='Book3_16078417496350&#47;Q2_2' /><param name='tabs' value='no' /><param name='toolbar' value='yes' /><param name='static_image' value='https:&#47;&#47;public.tableau.com&#47;static&#47;images&#47;Bo&#47;Book3_16078417496350&#47;Q2_2&#47;1.png' /> <param name='animate_transition' value='yes' /><param name='display_static_image' value='yes' /><param name='display_spinner' value='yes' /><param name='display_overlay' value='yes' /><param name='display_count' value='yes' /><param name='language' value='en' /><param name='filter' value='publish=yes' /></object></div>                <script type='text/javascript'>                    var divElement = document.getElementById('viz1607908010543');                    var vizElement = divElement.getElementsByTagName('object')[0];                    vizElement.style.width='100%';vizElement.style.height=(divElement.offsetWidth*0.60)+'px';                    var scriptElement = document.createElement('script');                    scriptElement.src = 'https://public.tableau.com/javascripts/api/viz_v1.js';                    vizElement.parentNode.insertBefore(scriptElement, vizElement);                </script>\n"
      ],
      "text/plain": [
       "<IPython.core.display.HTML object>"
      ]
     },
     "metadata": {},
     "output_type": "display_data"
    }
   ],
   "source": [
    "%%HTML\n",
    "<div class='tableauPlaceholder' id='viz1607908010543' style='position: relative'><noscript><a href='#'><img alt=' ' src='https:&#47;&#47;public.tableau.com&#47;static&#47;images&#47;Bo&#47;Book3_16078417496350&#47;Q2_2&#47;1_rss.png' style='border: none' /></a></noscript><object class='tableauViz'  style='display:none;'><param name='host_url' value='https%3A%2F%2Fpublic.tableau.com%2F' /> <param name='embed_code_version' value='3' /> <param name='site_root' value='' /><param name='name' value='Book3_16078417496350&#47;Q2_2' /><param name='tabs' value='no' /><param name='toolbar' value='yes' /><param name='static_image' value='https:&#47;&#47;public.tableau.com&#47;static&#47;images&#47;Bo&#47;Book3_16078417496350&#47;Q2_2&#47;1.png' /> <param name='animate_transition' value='yes' /><param name='display_static_image' value='yes' /><param name='display_spinner' value='yes' /><param name='display_overlay' value='yes' /><param name='display_count' value='yes' /><param name='language' value='en' /><param name='filter' value='publish=yes' /></object></div>                <script type='text/javascript'>                    var divElement = document.getElementById('viz1607908010543');                    var vizElement = divElement.getElementsByTagName('object')[0];                    vizElement.style.width='100%';vizElement.style.height=(divElement.offsetWidth*0.60)+'px';                    var scriptElement = document.createElement('script');                    scriptElement.src = 'https://public.tableau.com/javascripts/api/viz_v1.js';                    vizElement.parentNode.insertBefore(scriptElement, vizElement);                </script>"
   ]
  },
  {
   "cell_type": "markdown",
   "metadata": {
    "id": "nzDzZHlNYRkE"
   },
   "source": [
    "### 3.3 - Adaption\n",
    "The percentage of \"Yes\" responses was lower in Latin America and South and West Asia. When \"Intending\" and \"In progress\" are included, it is clear that almost all regions have a plan for climate change. The percentage of respondents who answered \"Do know know\" was higher in Latin America."
   ]
  },
  {
   "cell_type": "code",
   "execution_count": 10,
   "metadata": {
    "colab": {
     "base_uri": "https://localhost:8080/",
     "height": 360
    },
    "id": "wHOxfj0PYV_N",
    "outputId": "1b790ef3-af2e-4e3d-f674-cb76b670afda"
   },
   "outputs": [
    {
     "data": {
      "text/html": [
       "<div class='tableauPlaceholder' id='viz1607850892939' style='position: relative'><noscript><a href='#'><img alt=' ' src='https:&#47;&#47;public.tableau.com&#47;static&#47;images&#47;Bo&#47;Book3_16078417496350&#47;Q3_1&#47;1_rss.png' style='border: none' /></a></noscript><object class='tableauViz'  style='display:none;'><param name='host_url' value='https%3A%2F%2Fpublic.tableau.com%2F' /> <param name='embed_code_version' value='3' /> <param name='site_root' value='' /><param name='name' value='Book3_16078417496350&#47;Q3_1' /><param name='tabs' value='no' /><param name='toolbar' value='yes' /><param name='static_image' value='https:&#47;&#47;public.tableau.com&#47;static&#47;images&#47;Bo&#47;Book3_16078417496350&#47;Q3_1&#47;1.png' /> <param name='animate_transition' value='yes' /><param name='display_static_image' value='yes' /><param name='display_spinner' value='yes' /><param name='display_overlay' value='yes' /><param name='display_count' value='yes' /><param name='language' value='en' /></object></div>                <script type='text/javascript'>                    var divElement = document.getElementById('viz1607850892939');                    var vizElement = divElement.getElementsByTagName('object')[0];                    vizElement.style.width='100%';vizElement.style.height=(divElement.offsetWidth*0.40)+'px';                    var scriptElement = document.createElement('script');                    scriptElement.src = 'https://public.tableau.com/javascripts/api/viz_v1.js';                    vizElement.parentNode.insertBefore(scriptElement, vizElement);                </script>\n"
      ],
      "text/plain": [
       "<IPython.core.display.HTML object>"
      ]
     },
     "metadata": {},
     "output_type": "display_data"
    }
   ],
   "source": [
    "%%HTML\n",
    "<div class='tableauPlaceholder' id='viz1607850892939' style='position: relative'><noscript><a href='#'><img alt=' ' src='https:&#47;&#47;public.tableau.com&#47;static&#47;images&#47;Bo&#47;Book3_16078417496350&#47;Q3_1&#47;1_rss.png' style='border: none' /></a></noscript><object class='tableauViz'  style='display:none;'><param name='host_url' value='https%3A%2F%2Fpublic.tableau.com%2F' /> <param name='embed_code_version' value='3' /> <param name='site_root' value='' /><param name='name' value='Book3_16078417496350&#47;Q3_1' /><param name='tabs' value='no' /><param name='toolbar' value='yes' /><param name='static_image' value='https:&#47;&#47;public.tableau.com&#47;static&#47;images&#47;Bo&#47;Book3_16078417496350&#47;Q3_1&#47;1.png' /> <param name='animate_transition' value='yes' /><param name='display_static_image' value='yes' /><param name='display_spinner' value='yes' /><param name='display_overlay' value='yes' /><param name='display_count' value='yes' /><param name='language' value='en' /></object></div>                <script type='text/javascript'>                    var divElement = document.getElementById('viz1607850892939');                    var vizElement = divElement.getElementsByTagName('object')[0];                    vizElement.style.width='100%';vizElement.style.height=(divElement.offsetWidth*0.40)+'px';                    var scriptElement = document.createElement('script');                    scriptElement.src = 'https://public.tableau.com/javascripts/api/viz_v1.js';                    vizElement.parentNode.insertBefore(scriptElement, vizElement);                </script>"
   ]
  },
  {
   "cell_type": "markdown",
   "metadata": {
    "id": "w3ntf19iYl_O"
   },
   "source": [
    "### 3.4 - City-wide Emissions\n",
    "The percentage of \"Yes\" responses is high in East Asia, Europe, North America, Southeast Asia and Oceania, while it is significantly low in Africa. It is assumed that there is a difference depending on the level of development of the country or region, since a certain level of technology is required to grasp the emission."
   ]
  },
  {
   "cell_type": "code",
   "execution_count": 11,
   "metadata": {
    "colab": {
     "base_uri": "https://localhost:8080/",
     "height": 360
    },
    "id": "3ltbegh1Ypi-",
    "outputId": "0b655ee6-818e-43c5-d401-c7d53390718a"
   },
   "outputs": [
    {
     "data": {
      "text/html": [
       "<div class='tableauPlaceholder' id='viz1607851020904' style='position: relative'><noscript><a href='#'><img alt=' ' src='https:&#47;&#47;public.tableau.com&#47;static&#47;images&#47;4D&#47;4DC5Y86H3&#47;1_rss.png' style='border: none' /></a></noscript><object class='tableauViz'  style='display:none;'><param name='host_url' value='https%3A%2F%2Fpublic.tableau.com%2F' /> <param name='embed_code_version' value='3' /> <param name='path' value='shared&#47;4DC5Y86H3' /> <param name='toolbar' value='yes' /><param name='static_image' value='https:&#47;&#47;public.tableau.com&#47;static&#47;images&#47;4D&#47;4DC5Y86H3&#47;1.png' /> <param name='animate_transition' value='yes' /><param name='display_static_image' value='yes' /><param name='display_spinner' value='yes' /><param name='display_overlay' value='yes' /><param name='display_count' value='yes' /><param name='language' value='en' /></object></div>                <script type='text/javascript'>                    var divElement = document.getElementById('viz1607851020904');                    var vizElement = divElement.getElementsByTagName('object')[0];                    vizElement.style.width='100%';vizElement.style.height=(divElement.offsetWidth*0.40)+'px';                    var scriptElement = document.createElement('script');                    scriptElement.src = 'https://public.tableau.com/javascripts/api/viz_v1.js';                    vizElement.parentNode.insertBefore(scriptElement, vizElement);                </script>\n"
      ],
      "text/plain": [
       "<IPython.core.display.HTML object>"
      ]
     },
     "metadata": {},
     "output_type": "display_data"
    }
   ],
   "source": [
    "%%HTML\n",
    "<div class='tableauPlaceholder' id='viz1607851020904' style='position: relative'><noscript><a href='#'><img alt=' ' src='https:&#47;&#47;public.tableau.com&#47;static&#47;images&#47;4D&#47;4DC5Y86H3&#47;1_rss.png' style='border: none' /></a></noscript><object class='tableauViz'  style='display:none;'><param name='host_url' value='https%3A%2F%2Fpublic.tableau.com%2F' /> <param name='embed_code_version' value='3' /> <param name='path' value='shared&#47;4DC5Y86H3' /> <param name='toolbar' value='yes' /><param name='static_image' value='https:&#47;&#47;public.tableau.com&#47;static&#47;images&#47;4D&#47;4DC5Y86H3&#47;1.png' /> <param name='animate_transition' value='yes' /><param name='display_static_image' value='yes' /><param name='display_spinner' value='yes' /><param name='display_overlay' value='yes' /><param name='display_count' value='yes' /><param name='language' value='en' /></object></div>                <script type='text/javascript'>                    var divElement = document.getElementById('viz1607851020904');                    var vizElement = divElement.getElementsByTagName('object')[0];                    vizElement.style.width='100%';vizElement.style.height=(divElement.offsetWidth*0.40)+'px';                    var scriptElement = document.createElement('script');                    scriptElement.src = 'https://public.tableau.com/javascripts/api/viz_v1.js';                    vizElement.parentNode.insertBefore(scriptElement, vizElement);                </script>"
   ]
  },
  {
   "cell_type": "markdown",
   "metadata": {
    "id": "zaQT_Y_aAmws"
   },
   "source": [
    "In the previous question, there was a clear difference in the regions that capture emissions, but it is very interesting that there is no clear difference in the increase and decrease. It can be inferred that it is important not only to capture emissions but also to take specific measures."
   ]
  },
  {
   "cell_type": "code",
   "execution_count": 12,
   "metadata": {
    "colab": {
     "base_uri": "https://localhost:8080/",
     "height": 360
    },
    "id": "SDCITeq8i2_z",
    "outputId": "9f3d941d-e2a4-499c-f267-1833f4a1a633"
   },
   "outputs": [
    {
     "data": {
      "text/html": [
       "<div class='tableauPlaceholder' id='viz1607853646141' style='position: relative'><noscript><a href='#'><img alt=' ' src='https:&#47;&#47;public.tableau.com&#47;static&#47;images&#47;Bo&#47;Book3_16078417496350&#47;Q4_8&#47;1_rss.png' style='border: none' /></a></noscript><object class='tableauViz'  style='display:none;'><param name='host_url' value='https%3A%2F%2Fpublic.tableau.com%2F' /> <param name='embed_code_version' value='3' /> <param name='site_root' value='' /><param name='name' value='Book3_16078417496350&#47;Q4_8' /><param name='tabs' value='no' /><param name='toolbar' value='yes' /><param name='static_image' value='https:&#47;&#47;public.tableau.com&#47;static&#47;images&#47;Bo&#47;Book3_16078417496350&#47;Q4_8&#47;1.png' /> <param name='animate_transition' value='yes' /><param name='display_static_image' value='yes' /><param name='display_spinner' value='yes' /><param name='display_overlay' value='yes' /><param name='display_count' value='yes' /><param name='language' value='en' /></object></div>                <script type='text/javascript'>                    var divElement = document.getElementById('viz1607853646141');                    var vizElement = divElement.getElementsByTagName('object')[0];                    vizElement.style.width='100%';vizElement.style.height=(divElement.offsetWidth*0.40)+'px';                    var scriptElement = document.createElement('script');                    scriptElement.src = 'https://public.tableau.com/javascripts/api/viz_v1.js';                    vizElement.parentNode.insertBefore(scriptElement, vizElement);                </script>\n"
      ],
      "text/plain": [
       "<IPython.core.display.HTML object>"
      ]
     },
     "metadata": {},
     "output_type": "display_data"
    }
   ],
   "source": [
    "%%HTML\n",
    "<div class='tableauPlaceholder' id='viz1607853646141' style='position: relative'><noscript><a href='#'><img alt=' ' src='https:&#47;&#47;public.tableau.com&#47;static&#47;images&#47;Bo&#47;Book3_16078417496350&#47;Q4_8&#47;1_rss.png' style='border: none' /></a></noscript><object class='tableauViz'  style='display:none;'><param name='host_url' value='https%3A%2F%2Fpublic.tableau.com%2F' /> <param name='embed_code_version' value='3' /> <param name='site_root' value='' /><param name='name' value='Book3_16078417496350&#47;Q4_8' /><param name='tabs' value='no' /><param name='toolbar' value='yes' /><param name='static_image' value='https:&#47;&#47;public.tableau.com&#47;static&#47;images&#47;Bo&#47;Book3_16078417496350&#47;Q4_8&#47;1.png' /> <param name='animate_transition' value='yes' /><param name='display_static_image' value='yes' /><param name='display_spinner' value='yes' /><param name='display_overlay' value='yes' /><param name='display_count' value='yes' /><param name='language' value='en' /></object></div>                <script type='text/javascript'>                    var divElement = document.getElementById('viz1607853646141');                    var vizElement = divElement.getElementsByTagName('object')[0];                    vizElement.style.width='100%';vizElement.style.height=(divElement.offsetWidth*0.40)+'px';                    var scriptElement = document.createElement('script');                    scriptElement.src = 'https://public.tableau.com/javascripts/api/viz_v1.js';                    vizElement.parentNode.insertBefore(scriptElement, vizElement);                </script>"
   ]
  },
  {
   "cell_type": "markdown",
   "metadata": {
    "id": "v_3VjreajUuX"
   },
   "source": [
    "### 3.5 - Emissions Reduction\n",
    "The next two questions show the same trend as Q4.0, indicating that there are differences among regions in terms of emission reduction measures."
   ]
  },
  {
   "cell_type": "code",
   "execution_count": 13,
   "metadata": {
    "colab": {
     "base_uri": "https://localhost:8080/",
     "height": 531
    },
    "id": "FcGElE8TjQx4",
    "outputId": "9f8d872a-4629-4483-9841-6413b7d4d5ba"
   },
   "outputs": [
    {
     "data": {
      "text/html": [
       "<div class='tableauPlaceholder' id='viz1607853731643' style='position: relative'><noscript><a href='#'><img alt=' ' src='https:&#47;&#47;public.tableau.com&#47;static&#47;images&#47;Bo&#47;Book3_16078417496350&#47;Q5_0&#47;1_rss.png' style='border: none' /></a></noscript><object class='tableauViz'  style='display:none;'><param name='host_url' value='https%3A%2F%2Fpublic.tableau.com%2F' /> <param name='embed_code_version' value='3' /> <param name='site_root' value='' /><param name='name' value='Book3_16078417496350&#47;Q5_0' /><param name='tabs' value='no' /><param name='toolbar' value='yes' /><param name='static_image' value='https:&#47;&#47;public.tableau.com&#47;static&#47;images&#47;Bo&#47;Book3_16078417496350&#47;Q5_0&#47;1.png' /> <param name='animate_transition' value='yes' /><param name='display_static_image' value='yes' /><param name='display_spinner' value='yes' /><param name='display_overlay' value='yes' /><param name='display_count' value='yes' /><param name='language' value='en' /></object></div>                <script type='text/javascript'>                    var divElement = document.getElementById('viz1607853731643');                    var vizElement = divElement.getElementsByTagName('object')[0];                    vizElement.style.width='100%';vizElement.style.height=(divElement.offsetWidth*0.60)+'px';                    var scriptElement = document.createElement('script');                    scriptElement.src = 'https://public.tableau.com/javascripts/api/viz_v1.js';                    vizElement.parentNode.insertBefore(scriptElement, vizElement);                </script>\n"
      ],
      "text/plain": [
       "<IPython.core.display.HTML object>"
      ]
     },
     "metadata": {},
     "output_type": "display_data"
    }
   ],
   "source": [
    "%%HTML\n",
    "<div class='tableauPlaceholder' id='viz1607853731643' style='position: relative'><noscript><a href='#'><img alt=' ' src='https:&#47;&#47;public.tableau.com&#47;static&#47;images&#47;Bo&#47;Book3_16078417496350&#47;Q5_0&#47;1_rss.png' style='border: none' /></a></noscript><object class='tableauViz'  style='display:none;'><param name='host_url' value='https%3A%2F%2Fpublic.tableau.com%2F' /> <param name='embed_code_version' value='3' /> <param name='site_root' value='' /><param name='name' value='Book3_16078417496350&#47;Q5_0' /><param name='tabs' value='no' /><param name='toolbar' value='yes' /><param name='static_image' value='https:&#47;&#47;public.tableau.com&#47;static&#47;images&#47;Bo&#47;Book3_16078417496350&#47;Q5_0&#47;1.png' /> <param name='animate_transition' value='yes' /><param name='display_static_image' value='yes' /><param name='display_spinner' value='yes' /><param name='display_overlay' value='yes' /><param name='display_count' value='yes' /><param name='language' value='en' /></object></div>                <script type='text/javascript'>                    var divElement = document.getElementById('viz1607853731643');                    var vizElement = divElement.getElementsByTagName('object')[0];                    vizElement.style.width='100%';vizElement.style.height=(divElement.offsetWidth*0.60)+'px';                    var scriptElement = document.createElement('script');                    scriptElement.src = 'https://public.tableau.com/javascripts/api/viz_v1.js';                    vizElement.parentNode.insertBefore(scriptElement, vizElement);                </script>"
   ]
  },
  {
   "cell_type": "code",
   "execution_count": 14,
   "metadata": {
    "colab": {
     "base_uri": "https://localhost:8080/",
     "height": 360
    },
    "id": "2u9tNul-jcmP",
    "outputId": "29193934-c40a-4572-c0c1-c59f867019ef"
   },
   "outputs": [
    {
     "data": {
      "text/html": [
       "<div class='tableauPlaceholder' id='viz1607853815428' style='position: relative'><noscript><a href='#'><img alt=' ' src='https:&#47;&#47;public.tableau.com&#47;static&#47;images&#47;Bo&#47;Book3_16078417496350&#47;Q5_5&#47;1_rss.png' style='border: none' /></a></noscript><object class='tableauViz'  style='display:none;'><param name='host_url' value='https%3A%2F%2Fpublic.tableau.com%2F' /> <param name='embed_code_version' value='3' /> <param name='site_root' value='' /><param name='name' value='Book3_16078417496350&#47;Q5_5' /><param name='tabs' value='no' /><param name='toolbar' value='yes' /><param name='static_image' value='https:&#47;&#47;public.tableau.com&#47;static&#47;images&#47;Bo&#47;Book3_16078417496350&#47;Q5_5&#47;1.png' /> <param name='animate_transition' value='yes' /><param name='display_static_image' value='yes' /><param name='display_spinner' value='yes' /><param name='display_overlay' value='yes' /><param name='display_count' value='yes' /><param name='language' value='en' /></object></div>                <script type='text/javascript'>                    var divElement = document.getElementById('viz1607853815428');                    var vizElement = divElement.getElementsByTagName('object')[0];                    vizElement.style.width='100%';vizElement.style.height=(divElement.offsetWidth*0.40)+'px';                    var scriptElement = document.createElement('script');                    scriptElement.src = 'https://public.tableau.com/javascripts/api/viz_v1.js';                    vizElement.parentNode.insertBefore(scriptElement, vizElement);                </script>\n"
      ],
      "text/plain": [
       "<IPython.core.display.HTML object>"
      ]
     },
     "metadata": {},
     "output_type": "display_data"
    }
   ],
   "source": [
    "%%HTML\n",
    "<div class='tableauPlaceholder' id='viz1607853815428' style='position: relative'><noscript><a href='#'><img alt=' ' src='https:&#47;&#47;public.tableau.com&#47;static&#47;images&#47;Bo&#47;Book3_16078417496350&#47;Q5_5&#47;1_rss.png' style='border: none' /></a></noscript><object class='tableauViz'  style='display:none;'><param name='host_url' value='https%3A%2F%2Fpublic.tableau.com%2F' /> <param name='embed_code_version' value='3' /> <param name='site_root' value='' /><param name='name' value='Book3_16078417496350&#47;Q5_5' /><param name='tabs' value='no' /><param name='toolbar' value='yes' /><param name='static_image' value='https:&#47;&#47;public.tableau.com&#47;static&#47;images&#47;Bo&#47;Book3_16078417496350&#47;Q5_5&#47;1.png' /> <param name='animate_transition' value='yes' /><param name='display_static_image' value='yes' /><param name='display_spinner' value='yes' /><param name='display_overlay' value='yes' /><param name='display_count' value='yes' /><param name='language' value='en' /></object></div>                <script type='text/javascript'>                    var divElement = document.getElementById('viz1607853815428');                    var vizElement = divElement.getElementsByTagName('object')[0];                    vizElement.style.width='100%';vizElement.style.height=(divElement.offsetWidth*0.40)+'px';                    var scriptElement = document.createElement('script');                    scriptElement.src = 'https://public.tableau.com/javascripts/api/viz_v1.js';                    vizElement.parentNode.insertBefore(scriptElement, vizElement);                </script>"
   ]
  },
  {
   "cell_type": "markdown",
   "metadata": {
    "id": "d_2_bxAJkMgZ"
   },
   "source": [
    "### 3.6 - Opportunities\n",
    "As with Q2.2, the results vary greatly by region. Looking at the overall results, it is clear that there is a particularly high level of interest in Renewable Energy."
   ]
  },
  {
   "cell_type": "code",
   "execution_count": 15,
   "metadata": {
    "colab": {
     "base_uri": "https://localhost:8080/",
     "height": 531
    },
    "id": "O6nGcIlMkiSJ",
    "outputId": "1964b74d-837f-41f3-b1a7-b56c81fdb198"
   },
   "outputs": [
    {
     "data": {
      "text/html": [
       "<div class='tableauPlaceholder' id='viz1607854088426' style='position: relative'><noscript><a href='#'><img alt=' ' src='https:&#47;&#47;public.tableau.com&#47;static&#47;images&#47;Bo&#47;Book3_16078417496350&#47;Q6_2&#47;1_rss.png' style='border: none' /></a></noscript><object class='tableauViz'  style='display:none;'><param name='host_url' value='https%3A%2F%2Fpublic.tableau.com%2F' /> <param name='embed_code_version' value='3' /> <param name='site_root' value='' /><param name='name' value='Book3_16078417496350&#47;Q6_2' /><param name='tabs' value='no' /><param name='toolbar' value='yes' /><param name='static_image' value='https:&#47;&#47;public.tableau.com&#47;static&#47;images&#47;Bo&#47;Book3_16078417496350&#47;Q6_2&#47;1.png' /> <param name='animate_transition' value='yes' /><param name='display_static_image' value='yes' /><param name='display_spinner' value='yes' /><param name='display_overlay' value='yes' /><param name='display_count' value='yes' /><param name='language' value='en' /></object></div>                <script type='text/javascript'>                    var divElement = document.getElementById('viz1607854088426');                    var vizElement = divElement.getElementsByTagName('object')[0];                    vizElement.style.width='100%';vizElement.style.height=(divElement.offsetWidth*0.60)+'px';                    var scriptElement = document.createElement('script');                    scriptElement.src = 'https://public.tableau.com/javascripts/api/viz_v1.js';                    vizElement.parentNode.insertBefore(scriptElement, vizElement);                </script>\n"
      ],
      "text/plain": [
       "<IPython.core.display.HTML object>"
      ]
     },
     "metadata": {},
     "output_type": "display_data"
    }
   ],
   "source": [
    "%%HTML\n",
    "<div class='tableauPlaceholder' id='viz1607854088426' style='position: relative'><noscript><a href='#'><img alt=' ' src='https:&#47;&#47;public.tableau.com&#47;static&#47;images&#47;Bo&#47;Book3_16078417496350&#47;Q6_2&#47;1_rss.png' style='border: none' /></a></noscript><object class='tableauViz'  style='display:none;'><param name='host_url' value='https%3A%2F%2Fpublic.tableau.com%2F' /> <param name='embed_code_version' value='3' /> <param name='site_root' value='' /><param name='name' value='Book3_16078417496350&#47;Q6_2' /><param name='tabs' value='no' /><param name='toolbar' value='yes' /><param name='static_image' value='https:&#47;&#47;public.tableau.com&#47;static&#47;images&#47;Bo&#47;Book3_16078417496350&#47;Q6_2&#47;1.png' /> <param name='animate_transition' value='yes' /><param name='display_static_image' value='yes' /><param name='display_spinner' value='yes' /><param name='display_overlay' value='yes' /><param name='display_count' value='yes' /><param name='language' value='en' /></object></div>                <script type='text/javascript'>                    var divElement = document.getElementById('viz1607854088426');                    var vizElement = divElement.getElementsByTagName('object')[0];                    vizElement.style.width='100%';vizElement.style.height=(divElement.offsetWidth*0.60)+'px';                    var scriptElement = document.createElement('script');                    scriptElement.src = 'https://public.tableau.com/javascripts/api/viz_v1.js';                    vizElement.parentNode.insertBefore(scriptElement, vizElement);                </script>"
   ]
  },
  {
   "cell_type": "markdown",
   "metadata": {
    "id": "_LMDnsgakxVT"
   },
   "source": [
    "### 3.7 - Energy\n",
    "The percentage of respondents who answered \"Yes\" in Latin America and Africa was low."
   ]
  },
  {
   "cell_type": "code",
   "execution_count": 16,
   "metadata": {
    "colab": {
     "base_uri": "https://localhost:8080/",
     "height": 360
    },
    "id": "puqwUOM0k58L",
    "outputId": "3d265164-c680-476e-d432-a8aff54e82e6"
   },
   "outputs": [
    {
     "data": {
      "text/html": [
       "<div class='tableauPlaceholder' id='viz1607854188080' style='position: relative'><noscript><a href='#'><img alt=' ' src='https:&#47;&#47;public.tableau.com&#47;static&#47;images&#47;Bo&#47;Book3_16078417496350&#47;Q8_0&#47;1_rss.png' style='border: none' /></a></noscript><object class='tableauViz'  style='display:none;'><param name='host_url' value='https%3A%2F%2Fpublic.tableau.com%2F' /> <param name='embed_code_version' value='3' /> <param name='site_root' value='' /><param name='name' value='Book3_16078417496350&#47;Q8_0' /><param name='tabs' value='no' /><param name='toolbar' value='yes' /><param name='static_image' value='https:&#47;&#47;public.tableau.com&#47;static&#47;images&#47;Bo&#47;Book3_16078417496350&#47;Q8_0&#47;1.png' /> <param name='animate_transition' value='yes' /><param name='display_static_image' value='yes' /><param name='display_spinner' value='yes' /><param name='display_overlay' value='yes' /><param name='display_count' value='yes' /><param name='language' value='en' /></object></div>                <script type='text/javascript'>                    var divElement = document.getElementById('viz1607854188080');                    var vizElement = divElement.getElementsByTagName('object')[0];                    vizElement.style.width='100%';vizElement.style.height=(divElement.offsetWidth*0.40)+'px';                    var scriptElement = document.createElement('script');                    scriptElement.src = 'https://public.tableau.com/javascripts/api/viz_v1.js';                    vizElement.parentNode.insertBefore(scriptElement, vizElement);                </script>\n"
      ],
      "text/plain": [
       "<IPython.core.display.HTML object>"
      ]
     },
     "metadata": {},
     "output_type": "display_data"
    }
   ],
   "source": [
    "%%HTML\n",
    "<div class='tableauPlaceholder' id='viz1607854188080' style='position: relative'><noscript><a href='#'><img alt=' ' src='https:&#47;&#47;public.tableau.com&#47;static&#47;images&#47;Bo&#47;Book3_16078417496350&#47;Q8_0&#47;1_rss.png' style='border: none' /></a></noscript><object class='tableauViz'  style='display:none;'><param name='host_url' value='https%3A%2F%2Fpublic.tableau.com%2F' /> <param name='embed_code_version' value='3' /> <param name='site_root' value='' /><param name='name' value='Book3_16078417496350&#47;Q8_0' /><param name='tabs' value='no' /><param name='toolbar' value='yes' /><param name='static_image' value='https:&#47;&#47;public.tableau.com&#47;static&#47;images&#47;Bo&#47;Book3_16078417496350&#47;Q8_0&#47;1.png' /> <param name='animate_transition' value='yes' /><param name='display_static_image' value='yes' /><param name='display_spinner' value='yes' /><param name='display_overlay' value='yes' /><param name='display_count' value='yes' /><param name='language' value='en' /></object></div>                <script type='text/javascript'>                    var divElement = document.getElementById('viz1607854188080');                    var vizElement = divElement.getElementsByTagName('object')[0];                    vizElement.style.width='100%';vizElement.style.height=(divElement.offsetWidth*0.40)+'px';                    var scriptElement = document.createElement('script');                    scriptElement.src = 'https://public.tableau.com/javascripts/api/viz_v1.js';                    vizElement.parentNode.insertBefore(scriptElement, vizElement);                </script>"
   ]
  },
  {
   "cell_type": "markdown",
   "metadata": {
    "id": "bgPksUU6lSoF"
   },
   "source": [
    "### 3.8 - Waste\n",
    "Africa, which ranked high in terms of waste management in Q6.2, has not made much progress in introducing restriction policies. Asia and Latin America, which were also ranked high, seem to have made some progress in regulation. Although it is not possible to tell from this, the fact that 100% of the Middle East respondents answered \"No\" seems to indicate that there is a reason for this."
   ]
  },
  {
   "cell_type": "code",
   "execution_count": 17,
   "metadata": {
    "colab": {
     "base_uri": "https://localhost:8080/",
     "height": 403
    },
    "id": "rFkSQGoUlUg5",
    "outputId": "748d8ba9-31cb-4a63-d8c4-da9114c3d02b"
   },
   "outputs": [
    {
     "data": {
      "text/html": [
       "<div class='tableauPlaceholder' id='viz1607854295258' style='position: relative'><noscript><a href='#'><img alt=' ' src='https:&#47;&#47;public.tableau.com&#47;static&#47;images&#47;Bo&#47;Book3_16078417496350&#47;Q13_6&#47;1_rss.png' style='border: none' /></a></noscript><object class='tableauViz'  style='display:none;'><param name='host_url' value='https%3A%2F%2Fpublic.tableau.com%2F' /> <param name='embed_code_version' value='3' /> <param name='site_root' value='' /><param name='name' value='Book3_16078417496350&#47;Q13_6' /><param name='tabs' value='no' /><param name='toolbar' value='yes' /><param name='static_image' value='https:&#47;&#47;public.tableau.com&#47;static&#47;images&#47;Bo&#47;Book3_16078417496350&#47;Q13_6&#47;1.png' /> <param name='animate_transition' value='yes' /><param name='display_static_image' value='yes' /><param name='display_spinner' value='yes' /><param name='display_overlay' value='yes' /><param name='display_count' value='yes' /><param name='language' value='en' /></object></div>                <script type='text/javascript'>                    var divElement = document.getElementById('viz1607854295258');                    var vizElement = divElement.getElementsByTagName('object')[0];                    vizElement.style.width='100%';vizElement.style.height=(divElement.offsetWidth*0.45)+'px';                    var scriptElement = document.createElement('script');                    scriptElement.src = 'https://public.tableau.com/javascripts/api/viz_v1.js';                    vizElement.parentNode.insertBefore(scriptElement, vizElement);                </script>\n"
      ],
      "text/plain": [
       "<IPython.core.display.HTML object>"
      ]
     },
     "metadata": {},
     "output_type": "display_data"
    }
   ],
   "source": [
    "%%HTML\n",
    "<div class='tableauPlaceholder' id='viz1607854295258' style='position: relative'><noscript><a href='#'><img alt=' ' src='https:&#47;&#47;public.tableau.com&#47;static&#47;images&#47;Bo&#47;Book3_16078417496350&#47;Q13_6&#47;1_rss.png' style='border: none' /></a></noscript><object class='tableauViz'  style='display:none;'><param name='host_url' value='https%3A%2F%2Fpublic.tableau.com%2F' /> <param name='embed_code_version' value='3' /> <param name='site_root' value='' /><param name='name' value='Book3_16078417496350&#47;Q13_6' /><param name='tabs' value='no' /><param name='toolbar' value='yes' /><param name='static_image' value='https:&#47;&#47;public.tableau.com&#47;static&#47;images&#47;Bo&#47;Book3_16078417496350&#47;Q13_6&#47;1.png' /> <param name='animate_transition' value='yes' /><param name='display_static_image' value='yes' /><param name='display_spinner' value='yes' /><param name='display_overlay' value='yes' /><param name='display_count' value='yes' /><param name='language' value='en' /></object></div>                <script type='text/javascript'>                    var divElement = document.getElementById('viz1607854295258');                    var vizElement = divElement.getElementsByTagName('object')[0];                    vizElement.style.width='100%';vizElement.style.height=(divElement.offsetWidth*0.45)+'px';                    var scriptElement = document.createElement('script');                    scriptElement.src = 'https://public.tableau.com/javascripts/api/viz_v1.js';                    vizElement.parentNode.insertBefore(scriptElement, vizElement);                </script>"
   ]
  },
  {
   "cell_type": "markdown",
   "metadata": {
    "id": "8Wq1M2bIlnmZ"
   },
   "source": [
    "### 3.9 - Water security\n",
    "The percentage of \"Yes\" is very high in almost all regions except Europe. In fact, in Q6.2, water issues were ranked lower in Europe. In particular, in Q14.3a, \"Increased water stress\" appears to be a risk regardless of region. Furthermore, in Africa and other regions, infrastructure issues are also a concern, indicating that we should pay attention to issues other than water quality and supply sources."
   ]
  },
  {
   "cell_type": "code",
   "execution_count": 18,
   "metadata": {
    "colab": {
     "base_uri": "https://localhost:8080/",
     "height": 403
    },
    "id": "G28VhUu9lp5H",
    "outputId": "1a1dd128-57f0-4dcf-a89a-1377f9bbec1e"
   },
   "outputs": [
    {
     "data": {
      "text/html": [
       "<div class='tableauPlaceholder' id='viz1607854385635' style='position: relative'><noscript><a href='#'><img alt=' ' src='https:&#47;&#47;public.tableau.com&#47;static&#47;images&#47;Bo&#47;Book3_16078417496350&#47;Q14_3&#47;1_rss.png' style='border: none' /></a></noscript><object class='tableauViz'  style='display:none;'><param name='host_url' value='https%3A%2F%2Fpublic.tableau.com%2F' /> <param name='embed_code_version' value='3' /> <param name='site_root' value='' /><param name='name' value='Book3_16078417496350&#47;Q14_3' /><param name='tabs' value='no' /><param name='toolbar' value='yes' /><param name='static_image' value='https:&#47;&#47;public.tableau.com&#47;static&#47;images&#47;Bo&#47;Book3_16078417496350&#47;Q14_3&#47;1.png' /> <param name='animate_transition' value='yes' /><param name='display_static_image' value='yes' /><param name='display_spinner' value='yes' /><param name='display_overlay' value='yes' /><param name='display_count' value='yes' /><param name='language' value='en' /></object></div>                <script type='text/javascript'>                    var divElement = document.getElementById('viz1607854385635');                    var vizElement = divElement.getElementsByTagName('object')[0];                    vizElement.style.width='100%';vizElement.style.height=(divElement.offsetWidth*0.45)+'px';                    var scriptElement = document.createElement('script');                    scriptElement.src = 'https://public.tableau.com/javascripts/api/viz_v1.js';                    vizElement.parentNode.insertBefore(scriptElement, vizElement);                </script>\n"
      ],
      "text/plain": [
       "<IPython.core.display.HTML object>"
      ]
     },
     "metadata": {},
     "output_type": "display_data"
    }
   ],
   "source": [
    "%%HTML\n",
    "<div class='tableauPlaceholder' id='viz1607854385635' style='position: relative'><noscript><a href='#'><img alt=' ' src='https:&#47;&#47;public.tableau.com&#47;static&#47;images&#47;Bo&#47;Book3_16078417496350&#47;Q14_3&#47;1_rss.png' style='border: none' /></a></noscript><object class='tableauViz'  style='display:none;'><param name='host_url' value='https%3A%2F%2Fpublic.tableau.com%2F' /> <param name='embed_code_version' value='3' /> <param name='site_root' value='' /><param name='name' value='Book3_16078417496350&#47;Q14_3' /><param name='tabs' value='no' /><param name='toolbar' value='yes' /><param name='static_image' value='https:&#47;&#47;public.tableau.com&#47;static&#47;images&#47;Bo&#47;Book3_16078417496350&#47;Q14_3&#47;1.png' /> <param name='animate_transition' value='yes' /><param name='display_static_image' value='yes' /><param name='display_spinner' value='yes' /><param name='display_overlay' value='yes' /><param name='display_count' value='yes' /><param name='language' value='en' /></object></div>                <script type='text/javascript'>                    var divElement = document.getElementById('viz1607854385635');                    var vizElement = divElement.getElementsByTagName('object')[0];                    vizElement.style.width='100%';vizElement.style.height=(divElement.offsetWidth*0.45)+'px';                    var scriptElement = document.createElement('script');                    scriptElement.src = 'https://public.tableau.com/javascripts/api/viz_v1.js';                    vizElement.parentNode.insertBefore(scriptElement, vizElement);                </script>"
   ]
  },
  {
   "cell_type": "code",
   "execution_count": 19,
   "metadata": {
    "colab": {
     "base_uri": "https://localhost:8080/",
     "height": 531
    },
    "id": "yKmCReLGlzVU",
    "outputId": "ae57a116-a737-4f0c-a108-6b39163cfa61"
   },
   "outputs": [
    {
     "data": {
      "text/html": [
       "<div class='tableauPlaceholder' id='viz1607854419545' style='position: relative'><noscript><a href='#'><img alt=' ' src='https:&#47;&#47;public.tableau.com&#47;static&#47;images&#47;Bo&#47;Book3_16078417496350&#47;Q14_3a&#47;1_rss.png' style='border: none' /></a></noscript><object class='tableauViz'  style='display:none;'><param name='host_url' value='https%3A%2F%2Fpublic.tableau.com%2F' /> <param name='embed_code_version' value='3' /> <param name='site_root' value='' /><param name='name' value='Book3_16078417496350&#47;Q14_3a' /><param name='tabs' value='no' /><param name='toolbar' value='yes' /><param name='static_image' value='https:&#47;&#47;public.tableau.com&#47;static&#47;images&#47;Bo&#47;Book3_16078417496350&#47;Q14_3a&#47;1.png' /> <param name='animate_transition' value='yes' /><param name='display_static_image' value='yes' /><param name='display_spinner' value='yes' /><param name='display_overlay' value='yes' /><param name='display_count' value='yes' /><param name='language' value='en' /></object></div>                <script type='text/javascript'>                    var divElement = document.getElementById('viz1607854419545');                    var vizElement = divElement.getElementsByTagName('object')[0];                    vizElement.style.width='100%';vizElement.style.height=(divElement.offsetWidth*0.60)+'px';                    var scriptElement = document.createElement('script');                    scriptElement.src = 'https://public.tableau.com/javascripts/api/viz_v1.js';                    vizElement.parentNode.insertBefore(scriptElement, vizElement);                </script>\n"
      ],
      "text/plain": [
       "<IPython.core.display.HTML object>"
      ]
     },
     "metadata": {},
     "output_type": "display_data"
    }
   ],
   "source": [
    "%%HTML\n",
    "<div class='tableauPlaceholder' id='viz1607854419545' style='position: relative'><noscript><a href='#'><img alt=' ' src='https:&#47;&#47;public.tableau.com&#47;static&#47;images&#47;Bo&#47;Book3_16078417496350&#47;Q14_3a&#47;1_rss.png' style='border: none' /></a></noscript><object class='tableauViz'  style='display:none;'><param name='host_url' value='https%3A%2F%2Fpublic.tableau.com%2F' /> <param name='embed_code_version' value='3' /> <param name='site_root' value='' /><param name='name' value='Book3_16078417496350&#47;Q14_3a' /><param name='tabs' value='no' /><param name='toolbar' value='yes' /><param name='static_image' value='https:&#47;&#47;public.tableau.com&#47;static&#47;images&#47;Bo&#47;Book3_16078417496350&#47;Q14_3a&#47;1.png' /> <param name='animate_transition' value='yes' /><param name='display_static_image' value='yes' /><param name='display_spinner' value='yes' /><param name='display_overlay' value='yes' /><param name='display_count' value='yes' /><param name='language' value='en' /></object></div>                <script type='text/javascript'>                    var divElement = document.getElementById('viz1607854419545');                    var vizElement = divElement.getElementsByTagName('object')[0];                    vizElement.style.width='100%';vizElement.style.height=(divElement.offsetWidth*0.60)+'px';                    var scriptElement = document.createElement('script');                    scriptElement.src = 'https://public.tableau.com/javascripts/api/viz_v1.js';                    vizElement.parentNode.insertBefore(scriptElement, vizElement);                </script>"
   ]
  },
  {
   "cell_type": "markdown",
   "metadata": {
    "id": "o8QRww1gbTbA"
   },
   "source": [
    "### 4.0 - Summary\n",
    "Q1.0, Q3.1, Q5.5, and Q14.3 show that regardless of region, respondents are highly concerned about environmental issues such as emissions and water security. On the other hand, there are differences in the degree to which the issues are being addressed, depending on the region. In particular, as shown in Q4.0 and Q5.0, Africa, Latin America, the Middle East, and South and West Asia were often characterized differently from other regions. Although more data is needed to confirm this, it can be seen that there is a difference between regions that include many developing countries and those that do not."
   ]
  },
  {
   "cell_type": "markdown",
   "metadata": {
    "id": "6Ib5qfI6RvKT"
   },
   "source": [
    "## **4 - Data Cleaning & Preparation**"
   ]
  },
  {
   "cell_type": "markdown",
   "metadata": {
    "id": "9kh9db2Yq3oX"
   },
   "source": [
    "In this section, we preprocess our data for our clustering analysis in the following sections. We first extract questions that can be used for project, then assign unique question numbers to them, put respondents and answers into a pivot table form (row: responsdent, columns: answers for each questions), and fill out NaN values."
   ]
  },
  {
   "cell_type": "code",
   "execution_count": 20,
   "metadata": {
    "id": "mv5kbV3zsc2Z"
   },
   "outputs": [],
   "source": [
    "# Extract rows that match the question we use\n",
    "data = data[data['Question Number'].isin(questions[questions['Can be used for Project?'] == '*']['Question Number'])]"
   ]
  },
  {
   "cell_type": "code",
   "execution_count": 21,
   "metadata": {
    "id": "b0B5AuVJ9LQl"
   },
   "outputs": [],
   "source": [
    "# Drop unnecessary columns & NaN in Response Answer\n",
    "data.drop(['Questionnaire', 'Year Reported to CDP', 'Question Name', 'Column Number', 'Column Name', 'Row Number', 'Row Name', 'Comments', 'File Name', 'Last update'], inplace=True, axis=1)\n",
    "data.dropna(subset=['Response Answer'], inplace=True)"
   ]
  },
  {
   "cell_type": "code",
   "execution_count": 22,
   "metadata": {
    "colab": {
     "base_uri": "https://localhost:8080/"
    },
    "id": "1YFEgQzVrrUI",
    "outputId": "b6a7f822-af9b-4e97-b4b2-3ca7f23c5d55"
   },
   "outputs": [
    {
     "data": {
      "text/plain": [
       "(14960, 8)"
      ]
     },
     "execution_count": 22,
     "metadata": {},
     "output_type": "execute_result"
    }
   ],
   "source": [
    "# Check the number of rows\n",
    "data.shape"
   ]
  },
  {
   "cell_type": "code",
   "execution_count": 23,
   "metadata": {
    "colab": {
     "base_uri": "https://localhost:8080/",
     "height": 362
    },
    "id": "yCskDIffr5qZ",
    "outputId": "8e28ffac-ddb7-4c60-8ec4-9ca23f96c108"
   },
   "outputs": [
    {
     "data": {
      "text/html": [
       "<div>\n",
       "<style scoped>\n",
       "    .dataframe tbody tr th:only-of-type {\n",
       "        vertical-align: middle;\n",
       "    }\n",
       "\n",
       "    .dataframe tbody tr th {\n",
       "        vertical-align: top;\n",
       "    }\n",
       "\n",
       "    .dataframe thead th {\n",
       "        text-align: right;\n",
       "    }\n",
       "</style>\n",
       "<table border=\"1\" class=\"dataframe\">\n",
       "  <thead>\n",
       "    <tr style=\"text-align: right;\">\n",
       "      <th></th>\n",
       "      <th>Account Number</th>\n",
       "      <th>Organization</th>\n",
       "      <th>Country</th>\n",
       "      <th>Parent Section</th>\n",
       "      <th>Section</th>\n",
       "      <th>Question Number</th>\n",
       "      <th>Response Answer</th>\n",
       "    </tr>\n",
       "    <tr>\n",
       "      <th>CDP Region</th>\n",
       "      <th></th>\n",
       "      <th></th>\n",
       "      <th></th>\n",
       "      <th></th>\n",
       "      <th></th>\n",
       "      <th></th>\n",
       "      <th></th>\n",
       "    </tr>\n",
       "  </thead>\n",
       "  <tbody>\n",
       "    <tr>\n",
       "      <th>Africa</th>\n",
       "      <td>1090</td>\n",
       "      <td>1090</td>\n",
       "      <td>1090</td>\n",
       "      <td>818</td>\n",
       "      <td>1090</td>\n",
       "      <td>1090</td>\n",
       "      <td>1090</td>\n",
       "    </tr>\n",
       "    <tr>\n",
       "      <th>East Asia</th>\n",
       "      <td>410</td>\n",
       "      <td>410</td>\n",
       "      <td>410</td>\n",
       "      <td>295</td>\n",
       "      <td>410</td>\n",
       "      <td>410</td>\n",
       "      <td>410</td>\n",
       "    </tr>\n",
       "    <tr>\n",
       "      <th>Europe</th>\n",
       "      <td>3212</td>\n",
       "      <td>3212</td>\n",
       "      <td>3212</td>\n",
       "      <td>2399</td>\n",
       "      <td>3212</td>\n",
       "      <td>3212</td>\n",
       "      <td>3212</td>\n",
       "    </tr>\n",
       "    <tr>\n",
       "      <th>Latin America</th>\n",
       "      <td>4423</td>\n",
       "      <td>4423</td>\n",
       "      <td>4423</td>\n",
       "      <td>3442</td>\n",
       "      <td>4423</td>\n",
       "      <td>4423</td>\n",
       "      <td>4423</td>\n",
       "    </tr>\n",
       "    <tr>\n",
       "      <th>Middle East</th>\n",
       "      <td>177</td>\n",
       "      <td>177</td>\n",
       "      <td>177</td>\n",
       "      <td>119</td>\n",
       "      <td>177</td>\n",
       "      <td>177</td>\n",
       "      <td>177</td>\n",
       "    </tr>\n",
       "    <tr>\n",
       "      <th>North America</th>\n",
       "      <td>3813</td>\n",
       "      <td>3813</td>\n",
       "      <td>3813</td>\n",
       "      <td>2887</td>\n",
       "      <td>3813</td>\n",
       "      <td>3813</td>\n",
       "      <td>3813</td>\n",
       "    </tr>\n",
       "    <tr>\n",
       "      <th>South and West Asia</th>\n",
       "      <td>386</td>\n",
       "      <td>386</td>\n",
       "      <td>386</td>\n",
       "      <td>275</td>\n",
       "      <td>386</td>\n",
       "      <td>386</td>\n",
       "      <td>386</td>\n",
       "    </tr>\n",
       "    <tr>\n",
       "      <th>Southeast Asia and Oceania</th>\n",
       "      <td>1449</td>\n",
       "      <td>1449</td>\n",
       "      <td>1449</td>\n",
       "      <td>1073</td>\n",
       "      <td>1449</td>\n",
       "      <td>1449</td>\n",
       "      <td>1449</td>\n",
       "    </tr>\n",
       "  </tbody>\n",
       "</table>\n",
       "</div>"
      ],
      "text/plain": [
       "                            Account Number  Organization  Country  \\\n",
       "CDP Region                                                          \n",
       "Africa                                1090          1090     1090   \n",
       "East Asia                              410           410      410   \n",
       "Europe                                3212          3212     3212   \n",
       "Latin America                         4423          4423     4423   \n",
       "Middle East                            177           177      177   \n",
       "North America                         3813          3813     3813   \n",
       "South and West Asia                    386           386      386   \n",
       "Southeast Asia and Oceania            1449          1449     1449   \n",
       "\n",
       "                            Parent Section  Section  Question Number  \\\n",
       "CDP Region                                                             \n",
       "Africa                                 818     1090             1090   \n",
       "East Asia                              295      410              410   \n",
       "Europe                                2399     3212             3212   \n",
       "Latin America                         3442     4423             4423   \n",
       "Middle East                            119      177              177   \n",
       "North America                         2887     3813             3813   \n",
       "South and West Asia                    275      386              386   \n",
       "Southeast Asia and Oceania            1073     1449             1449   \n",
       "\n",
       "                            Response Answer  \n",
       "CDP Region                                   \n",
       "Africa                                 1090  \n",
       "East Asia                               410  \n",
       "Europe                                 3212  \n",
       "Latin America                          4423  \n",
       "Middle East                             177  \n",
       "North America                          3813  \n",
       "South and West Asia                     386  \n",
       "Southeast Asia and Oceania             1449  "
      ]
     },
     "execution_count": 23,
     "metadata": {},
     "output_type": "execute_result"
    }
   ],
   "source": [
    "# Check the number of rows by region\n",
    "data.groupby('CDP Region').count()"
   ]
  },
  {
   "cell_type": "markdown",
   "metadata": {
    "id": "naojhUmGtAZ5"
   },
   "source": [
    "If respondent chooses option \"Other\", they can add their own comments. However, since this project does not focus on Natural Language Processing, we cut out the extra comments next to \"Other:\" to make the data less complicated, turning \"Other\" into a choice that is consistent across questions."
   ]
  },
  {
   "cell_type": "code",
   "execution_count": 24,
   "metadata": {
    "id": "8oxVAiH8TGc1"
   },
   "outputs": [],
   "source": [
    "# Replace responces starts with \"Other: ~~\"\n",
    "data.loc[data['Response Answer'].str.startswith('Other'), \"Response Answer\"] = \"Other\""
   ]
  },
  {
   "cell_type": "code",
   "execution_count": 25,
   "metadata": {
    "id": "mEGul6vMZ26u"
   },
   "outputs": [],
   "source": [
    "# Extract question numbers\n",
    "q_use_mc = questions[(questions['Can be used for Project?'] == '*') & (questions['Question Type'] == 'Simple Multiple Choice')]\n",
    "q_use_sata = questions[(questions['Can be used for Project?'] == '*') & (questions['Question Type'] == 'Select-all-that-apply')]\n",
    "q_use_num = questions[(questions['Can be used for Project?'] == '*') & (questions['Question Type'] == 'Numerical')]"
   ]
  },
  {
   "cell_type": "markdown",
   "metadata": {
    "id": "vVeDlu0LUMo9"
   },
   "source": [
    "In the case of a question that requires the user to select all the applicable items, the answers are divided into two or more rows when multiple items are selected, resulting in duplication of keys when pivoting. Therefore, we decided to consider a question as a \"Yes-No\" question and assign a unique number corresponding to each choice.\n",
    "\n",
    "e.g., 10.0 -> 10.0_1"
   ]
  },
  {
   "cell_type": "code",
   "execution_count": 26,
   "metadata": {
    "colab": {
     "base_uri": "https://localhost:8080/",
     "height": 374
    },
    "id": "rZ0BM0z7Itf2",
    "outputId": "6f57a292-1970-404c-f295-0b111d4bed34"
   },
   "outputs": [
    {
     "data": {
      "text/html": [
       "<div>\n",
       "<style scoped>\n",
       "    .dataframe tbody tr th:only-of-type {\n",
       "        vertical-align: middle;\n",
       "    }\n",
       "\n",
       "    .dataframe tbody tr th {\n",
       "        vertical-align: top;\n",
       "    }\n",
       "\n",
       "    .dataframe thead th {\n",
       "        text-align: right;\n",
       "    }\n",
       "</style>\n",
       "<table border=\"1\" class=\"dataframe\">\n",
       "  <thead>\n",
       "    <tr style=\"text-align: right;\">\n",
       "      <th></th>\n",
       "      <th>Account Number</th>\n",
       "      <th>Organization</th>\n",
       "      <th>Country</th>\n",
       "      <th>CDP Region</th>\n",
       "      <th>Parent Section</th>\n",
       "      <th>Section</th>\n",
       "      <th>Question Number</th>\n",
       "      <th>Response Answer</th>\n",
       "    </tr>\n",
       "  </thead>\n",
       "  <tbody>\n",
       "    <tr>\n",
       "      <th>71</th>\n",
       "      <td>60621</td>\n",
       "      <td>Lilongwe City Council</td>\n",
       "      <td>Malawi</td>\n",
       "      <td>Africa</td>\n",
       "      <td>NaN</td>\n",
       "      <td>Transport</td>\n",
       "      <td>10.0_1</td>\n",
       "      <td>Passenger transport</td>\n",
       "    </tr>\n",
       "    <tr>\n",
       "      <th>114</th>\n",
       "      <td>35887</td>\n",
       "      <td>Ajuntament de Valencia</td>\n",
       "      <td>Spain</td>\n",
       "      <td>Europe</td>\n",
       "      <td>Governance and Data Management</td>\n",
       "      <td>Governance</td>\n",
       "      <td>1.0</td>\n",
       "      <td>Yes</td>\n",
       "    </tr>\n",
       "    <tr>\n",
       "      <th>135</th>\n",
       "      <td>54277</td>\n",
       "      <td>New Plymouth District Council</td>\n",
       "      <td>New Zealand</td>\n",
       "      <td>Southeast Asia and Oceania</td>\n",
       "      <td>NaN</td>\n",
       "      <td>Energy</td>\n",
       "      <td>8.0</td>\n",
       "      <td>Not intending to undertake</td>\n",
       "    </tr>\n",
       "    <tr>\n",
       "      <th>185</th>\n",
       "      <td>50672</td>\n",
       "      <td>Município de Santarém</td>\n",
       "      <td>Portugal</td>\n",
       "      <td>Europe</td>\n",
       "      <td>NaN</td>\n",
       "      <td>Transport</td>\n",
       "      <td>10.7</td>\n",
       "      <td>No</td>\n",
       "    </tr>\n",
       "    <tr>\n",
       "      <th>241</th>\n",
       "      <td>60638</td>\n",
       "      <td>Walvis Bay Municipality</td>\n",
       "      <td>Namibia</td>\n",
       "      <td>Africa</td>\n",
       "      <td>Local Government Emissions</td>\n",
       "      <td>Local Government Operations GHG Emissions Data</td>\n",
       "      <td>7.0</td>\n",
       "      <td>Yes</td>\n",
       "    </tr>\n",
       "  </tbody>\n",
       "</table>\n",
       "</div>"
      ],
      "text/plain": [
       "     Account Number                   Organization      Country  \\\n",
       "71            60621          Lilongwe City Council       Malawi   \n",
       "114           35887         Ajuntament de Valencia        Spain   \n",
       "135           54277  New Plymouth District Council  New Zealand   \n",
       "185           50672          Município de Santarém     Portugal   \n",
       "241           60638        Walvis Bay Municipality      Namibia   \n",
       "\n",
       "                     CDP Region                  Parent Section  \\\n",
       "71                       Africa                             NaN   \n",
       "114                      Europe  Governance and Data Management   \n",
       "135  Southeast Asia and Oceania                             NaN   \n",
       "185                      Europe                             NaN   \n",
       "241                      Africa      Local Government Emissions   \n",
       "\n",
       "                                            Section Question Number  \\\n",
       "71                                        Transport          10.0_1   \n",
       "114                                      Governance             1.0   \n",
       "135                                          Energy             8.0   \n",
       "185                                       Transport            10.7   \n",
       "241  Local Government Operations GHG Emissions Data             7.0   \n",
       "\n",
       "                Response Answer  \n",
       "71          Passenger transport  \n",
       "114                         Yes  \n",
       "135  Not intending to undertake  \n",
       "185                          No  \n",
       "241                         Yes  "
      ]
     },
     "execution_count": 26,
     "metadata": {},
     "output_type": "execute_result"
    }
   ],
   "source": [
    "new_sata_qn = []\n",
    "for qn in q_use_sata['Question Number']:\n",
    "\n",
    "  # Create response options list\n",
    "  options = data[data['Question Number'] == qn]['Response Answer'].drop_duplicates().reset_index().drop(['index'], axis=1).to_dict()\n",
    "  for key, option in options['Response Answer'].items():\n",
    "    new_qn = str(qn)+\"_\"+str(key+1)\n",
    "\n",
    "    # If there is an option that no one choose, skip adding the new question number list\n",
    "    if len(data[(data['Question Number'] == qn) & (data['Response Answer'] == option)]) != 0:\n",
    "      new_sata_qn.append(new_qn)\n",
    "\n",
    "    # Assign the new question number\n",
    "    data.loc[(data['Question Number'] == qn) & (data['Response Answer'] == option),  \"Question Number\"] = new_qn\n",
    "\n",
    "data.head()"
   ]
  },
  {
   "cell_type": "code",
   "execution_count": 27,
   "metadata": {
    "id": "1Lyh_o_FekNk"
   },
   "outputs": [],
   "source": [
    "#Turn data into pivot table form:\n",
    "data_pivoted = data.pivot(index=['Account Number', 'Organization', 'Country', 'CDP Region'], columns=['Question Number'], values=['Response Answer'])"
   ]
  },
  {
   "cell_type": "code",
   "execution_count": 28,
   "metadata": {
    "id": "uj-MT63TJLSX"
   },
   "outputs": [],
   "source": [
    "# Reset index and column names\n",
    "data_pivoted.reset_index(inplace=True)\n",
    "data_pivoted.columns = list(data.columns[:4]) +  [col[1] for col in data_pivoted.columns][4:]"
   ]
  },
  {
   "cell_type": "code",
   "execution_count": 29,
   "metadata": {
    "colab": {
     "base_uri": "https://localhost:8080/"
    },
    "id": "1-E13jO0QAa0",
    "outputId": "231f49b4-96f3-4d0a-85f6-c81b7b3c5692"
   },
   "outputs": [
    {
     "data": {
      "text/plain": [
       "1.9     730\n",
       "6.11    769\n",
       "8.4     748\n",
       "10.4    774\n",
       "11.0    743\n",
       "11.1    759\n",
       "12.0    543\n",
       "12.1    771\n",
       "12.2    777\n",
       "12.3    779\n",
       "13.1    744\n",
       "13.2    749\n",
       "14.2    258\n",
       "dtype: int64"
      ]
     },
     "execution_count": 29,
     "metadata": {},
     "output_type": "execute_result"
    }
   ],
   "source": [
    "# Check NaN\n",
    "data_pivoted[q_use_num['Question Number']].isna().sum()"
   ]
  },
  {
   "cell_type": "markdown",
   "metadata": {
    "id": "4I_LUwn_tuYv"
   },
   "source": [
    "We decided to not use numerical questions as 90% of their answers are NaN, which would give us little to no information."
   ]
  },
  {
   "cell_type": "code",
   "execution_count": 30,
   "metadata": {
    "colab": {
     "base_uri": "https://localhost:8080/",
     "height": 632
    },
    "id": "vKTdHlbhreuP",
    "outputId": "2b4662b3-e969-4f49-f535-e1bddec38566"
   },
   "outputs": [
    {
     "data": {
      "text/html": [
       "<div>\n",
       "<style scoped>\n",
       "    .dataframe tbody tr th:only-of-type {\n",
       "        vertical-align: middle;\n",
       "    }\n",
       "\n",
       "    .dataframe tbody tr th {\n",
       "        vertical-align: top;\n",
       "    }\n",
       "\n",
       "    .dataframe thead th {\n",
       "        text-align: right;\n",
       "    }\n",
       "</style>\n",
       "<table border=\"1\" class=\"dataframe\">\n",
       "  <thead>\n",
       "    <tr style=\"text-align: right;\">\n",
       "      <th></th>\n",
       "      <th>Account Number</th>\n",
       "      <th>Organization</th>\n",
       "      <th>Country</th>\n",
       "      <th>CDP Region</th>\n",
       "      <th>1.0</th>\n",
       "      <th>1.1</th>\n",
       "      <th>1.12_1</th>\n",
       "      <th>1.12_2</th>\n",
       "      <th>1.12_3</th>\n",
       "      <th>1.12_4</th>\n",
       "      <th>...</th>\n",
       "      <th>6.1</th>\n",
       "      <th>6.3</th>\n",
       "      <th>6.4</th>\n",
       "      <th>6.6</th>\n",
       "      <th>6.9</th>\n",
       "      <th>7.0</th>\n",
       "      <th>8.0</th>\n",
       "      <th>8.1</th>\n",
       "      <th>8.6</th>\n",
       "      <th>9.3</th>\n",
       "    </tr>\n",
       "  </thead>\n",
       "  <tbody>\n",
       "    <tr>\n",
       "      <th>0</th>\n",
       "      <td>1093</td>\n",
       "      <td>City of Atlanta</td>\n",
       "      <td>United States of America</td>\n",
       "      <td>North America</td>\n",
       "      <td>Yes</td>\n",
       "      <td>Yes</td>\n",
       "      <td>No</td>\n",
       "      <td>No</td>\n",
       "      <td>No</td>\n",
       "      <td>No</td>\n",
       "      <td>...</td>\n",
       "      <td>Yes</td>\n",
       "      <td>No</td>\n",
       "      <td>No</td>\n",
       "      <td>No</td>\n",
       "      <td>No</td>\n",
       "      <td>In progress</td>\n",
       "      <td>Yes</td>\n",
       "      <td>No</td>\n",
       "      <td>Yes</td>\n",
       "      <td>No</td>\n",
       "    </tr>\n",
       "    <tr>\n",
       "      <th>1</th>\n",
       "      <td>1184</td>\n",
       "      <td>City of Austin</td>\n",
       "      <td>United States of America</td>\n",
       "      <td>North America</td>\n",
       "      <td>Yes</td>\n",
       "      <td>Yes</td>\n",
       "      <td>Yes</td>\n",
       "      <td>Yes</td>\n",
       "      <td>Yes</td>\n",
       "      <td>No</td>\n",
       "      <td>...</td>\n",
       "      <td>Yes</td>\n",
       "      <td>No</td>\n",
       "      <td>Yes</td>\n",
       "      <td>Do not know</td>\n",
       "      <td>Yes</td>\n",
       "      <td>Yes</td>\n",
       "      <td>Yes</td>\n",
       "      <td>Yes</td>\n",
       "      <td>Yes</td>\n",
       "      <td>Yes - it applies to both new and existing buil...</td>\n",
       "    </tr>\n",
       "    <tr>\n",
       "      <th>2</th>\n",
       "      <td>1499</td>\n",
       "      <td>Ajuntament de Barcelona</td>\n",
       "      <td>Spain</td>\n",
       "      <td>Europe</td>\n",
       "      <td>Yes</td>\n",
       "      <td>Yes</td>\n",
       "      <td>Yes</td>\n",
       "      <td>Yes</td>\n",
       "      <td>Yes</td>\n",
       "      <td>Yes</td>\n",
       "      <td>...</td>\n",
       "      <td>Yes</td>\n",
       "      <td>No</td>\n",
       "      <td>No</td>\n",
       "      <td>No</td>\n",
       "      <td>Yes</td>\n",
       "      <td>Yes</td>\n",
       "      <td>Yes</td>\n",
       "      <td>Yes</td>\n",
       "      <td>Not intending to undertake</td>\n",
       "      <td>No</td>\n",
       "    </tr>\n",
       "    <tr>\n",
       "      <th>3</th>\n",
       "      <td>2028</td>\n",
       "      <td>City of Bonn</td>\n",
       "      <td>Germany</td>\n",
       "      <td>Europe</td>\n",
       "      <td>Yes</td>\n",
       "      <td>Yes</td>\n",
       "      <td>No</td>\n",
       "      <td>No</td>\n",
       "      <td>No</td>\n",
       "      <td>No</td>\n",
       "      <td>...</td>\n",
       "      <td>No</td>\n",
       "      <td>No</td>\n",
       "      <td>No</td>\n",
       "      <td>No</td>\n",
       "      <td>No</td>\n",
       "      <td>Yes</td>\n",
       "      <td>No</td>\n",
       "      <td>No</td>\n",
       "      <td>No</td>\n",
       "      <td>No</td>\n",
       "    </tr>\n",
       "    <tr>\n",
       "      <th>4</th>\n",
       "      <td>2185</td>\n",
       "      <td>Bristol City Council</td>\n",
       "      <td>United Kingdom of Great Britain and Northern I...</td>\n",
       "      <td>Europe</td>\n",
       "      <td>Yes</td>\n",
       "      <td>Yes</td>\n",
       "      <td>No</td>\n",
       "      <td>No</td>\n",
       "      <td>No</td>\n",
       "      <td>No</td>\n",
       "      <td>...</td>\n",
       "      <td>Yes</td>\n",
       "      <td>No</td>\n",
       "      <td>No</td>\n",
       "      <td>No</td>\n",
       "      <td>No</td>\n",
       "      <td>Yes</td>\n",
       "      <td>Yes</td>\n",
       "      <td>No</td>\n",
       "      <td>Yes</td>\n",
       "      <td>No</td>\n",
       "    </tr>\n",
       "  </tbody>\n",
       "</table>\n",
       "<p>5 rows × 50 columns</p>\n",
       "</div>"
      ],
      "text/plain": [
       "   Account Number             Organization  \\\n",
       "0            1093          City of Atlanta   \n",
       "1            1184           City of Austin   \n",
       "2            1499  Ajuntament de Barcelona   \n",
       "3            2028             City of Bonn   \n",
       "4            2185     Bristol City Council   \n",
       "\n",
       "                                             Country     CDP Region  1.0  1.1  \\\n",
       "0                           United States of America  North America  Yes  Yes   \n",
       "1                           United States of America  North America  Yes  Yes   \n",
       "2                                              Spain         Europe  Yes  Yes   \n",
       "3                                            Germany         Europe  Yes  Yes   \n",
       "4  United Kingdom of Great Britain and Northern I...         Europe  Yes  Yes   \n",
       "\n",
       "  1.12_1 1.12_2 1.12_3 1.12_4  ...  6.1 6.3  6.4          6.6  6.9  \\\n",
       "0     No     No     No     No  ...  Yes  No   No           No   No   \n",
       "1    Yes    Yes    Yes     No  ...  Yes  No  Yes  Do not know  Yes   \n",
       "2    Yes    Yes    Yes    Yes  ...  Yes  No   No           No  Yes   \n",
       "3     No     No     No     No  ...   No  No   No           No   No   \n",
       "4     No     No     No     No  ...  Yes  No   No           No   No   \n",
       "\n",
       "           7.0  8.0  8.1                         8.6  \\\n",
       "0  In progress  Yes   No                         Yes   \n",
       "1          Yes  Yes  Yes                         Yes   \n",
       "2          Yes  Yes  Yes  Not intending to undertake   \n",
       "3          Yes   No   No                          No   \n",
       "4          Yes  Yes   No                         Yes   \n",
       "\n",
       "                                                 9.3  \n",
       "0                                                 No  \n",
       "1  Yes - it applies to both new and existing buil...  \n",
       "2                                                 No  \n",
       "3                                                 No  \n",
       "4                                                 No  \n",
       "\n",
       "[5 rows x 50 columns]"
      ]
     },
     "execution_count": 30,
     "metadata": {},
     "output_type": "execute_result"
    }
   ],
   "source": [
    "# Replace the answers of select-all-that-apply questions to Yes-No\n",
    "for qn in new_sata_qn:\n",
    "  data_pivoted.loc[~(data_pivoted[qn].isnull()), qn] = \"Yes\"\n",
    "  data_pivoted.loc[data_pivoted[qn].isnull(), qn] = \"No\"\n",
    "\n",
    "# Fill all other NaN with 'No' for categorical\n",
    "data_pivoted[q_use_mc['Question Number']] = data_pivoted[q_use_mc['Question Number']].fillna('No')\n",
    "data_pivoted.drop(q_use_num['Question Number'], axis=1, inplace=True)\n",
    "\n",
    "data_pivoted.head()"
   ]
  },
  {
   "cell_type": "markdown",
   "metadata": {
    "id": "IZuiWWTFob4v"
   },
   "source": [
    "## **5 - Hierarchical Clustering**"
   ]
  },
  {
   "cell_type": "markdown",
   "metadata": {
    "id": "8PZzfPlqwPz4"
   },
   "source": [
    "We have 46 usable questions for each city in which the answers are categorical. If we want to turn them into numerical there would be to > 100 features to use, which are too many for 810 observations. Additionally, since most of these questions ask about urban planning and environment, the chance that these questions are correlated is high. Thus, we decide to perform Multiple Correspondence Analysis on our question data. We choose this dimension reduction technique because our data is categorical. "
   ]
  },
  {
   "cell_type": "code",
   "execution_count": 31,
   "metadata": {
    "id": "NicqOcAcQwb7"
   },
   "outputs": [],
   "source": [
    "# ! pip install prince "
   ]
  },
  {
   "cell_type": "code",
   "execution_count": 32,
   "metadata": {
    "id": "KU2C8ue-M9zW"
   },
   "outputs": [],
   "source": [
    "import prince #import prince for MCA "
   ]
  },
  {
   "cell_type": "markdown",
   "metadata": {
    "id": "RIarfWXzMZ8-"
   },
   "source": [
    "After the installation for Prince library is done, we can instantiate MCA. Because we will use unsupervised learning (clustering) in this project, we cannot tune MCA hyperparameters using cross validation and GridSearch/RandomizedSearch. Instead, since we want to visualize clusters, we opt for 2 components that will be used as x-axis and y-axis in cluster plots later. In the [Prince library](https://github.com/MaxHalford/prince), they also mention n_components = 2 is enough if users want to use chart. "
   ]
  },
  {
   "cell_type": "code",
   "execution_count": 33,
   "metadata": {
    "id": "qoKPVRf1NAET"
   },
   "outputs": [],
   "source": [
    "#Instantiate MCA\n",
    "mca = prince.MCA(\n",
    "     n_components=2,\n",
    "     random_state=862\n",
    ")\n",
    "\n",
    "X = data_pivoted.iloc[:,4:] #X is the question data for all cities \n",
    "mcaX = mca.fit_transform(X) #Perform MCA on X"
   ]
  },
  {
   "cell_type": "code",
   "execution_count": 34,
   "metadata": {
    "id": "PcLXMV7mNByD"
   },
   "outputs": [
    {
     "name": "stdout",
     "output_type": "stream",
     "text": [
      "[0.10194854668554369, 0.054399422277410854]\n"
     ]
    }
   ],
   "source": [
    "#Print out explained inertia to see how much data information the new mcaX can cover \n",
    "print(mca.explained_inertia_)"
   ]
  },
  {
   "cell_type": "markdown",
   "metadata": {
    "id": "J-BVi3j1MqCU"
   },
   "source": [
    "Only ~15% of the inertia the 2 components can contribute, which is low. However, we still want to test if these 2 components are really not that helpful by using them for clustering. For hierarchical clustering, first we decide the number of clusters using a dendrogram."
   ]
  },
  {
   "cell_type": "code",
   "execution_count": 35,
   "metadata": {
    "id": "x2iycFuHNEiC"
   },
   "outputs": [],
   "source": [
    "import matplotlib.pyplot as plt\n",
    "%matplotlib inline"
   ]
  },
  {
   "cell_type": "code",
   "execution_count": 36,
   "metadata": {
    "id": "BanAAOaeNICZ"
   },
   "outputs": [
    {
     "data": {
      "image/png": "[encoded data removed]",
      "text/plain": [
       "<Figure size 432x288 with 1 Axes>"
      ]
     },
     "metadata": {
      "needs_background": "light"
     },
     "output_type": "display_data"
    }
   ],
   "source": [
    "import scipy.cluster.hierarchy as sch\n",
    "dendrogram = sch.dendrogram(sch.linkage(mcaX, method = 'average'))\n",
    "plt.title('Dendrogram')\n",
    "plt.xlabel('Observations')\n",
    "plt.ylabel('Distance')\n",
    "plt.show()"
   ]
  },
  {
   "cell_type": "markdown",
   "metadata": {
    "id": "XmDkrKhCMxdy"
   },
   "source": [
    "The dendogram tells us to go for 2 clusters, which are probably just the left and the right blobs of data. To see if a bigger number performs better, we'll also try 3 clusters. When instantiating AgglomerativeClutering, we are using 'cosine' affinity and 'average' linkage. Since the original data is categorical and text, Euclidean might not be able to capture the relationships between observations as well as cosine, thus we cannot use 'ward' linkage ('ward' can only be used for Euclidean)."
   ]
  },
  {
   "cell_type": "code",
   "execution_count": 37,
   "metadata": {
    "id": "b4pqOgP8vKFx"
   },
   "outputs": [
    {
     "data": {
      "text/plain": [
       "AgglomerativeClustering(affinity='cosine', compute_full_tree='auto',\n",
       "                        connectivity=None, distance_threshold=None,\n",
       "                        linkage='average', memory=None, n_clusters=3)"
      ]
     },
     "execution_count": 37,
     "metadata": {},
     "output_type": "execute_result"
    }
   ],
   "source": [
    "from sklearn.cluster import AgglomerativeClustering\n",
    "\n",
    "AC2 = AgglomerativeClustering(n_clusters = 2, affinity='cosine',linkage='average') \n",
    "AC2.fit(mcaX)\n",
    "\n",
    "AC3 = AgglomerativeClustering(n_clusters = 3, affinity='cosine',linkage='average') \n",
    "AC3.fit(mcaX)"
   ]
  },
  {
   "cell_type": "markdown",
   "metadata": {
    "id": "Kr-Ir3KCM4vy"
   },
   "source": [
    "Let's print out the number of observations that belong to each cluster to compare the difference between 2 and 3 clusters:"
   ]
  },
  {
   "cell_type": "code",
   "execution_count": 38,
   "metadata": {
    "id": "5aCH_2VdvMX9"
   },
   "outputs": [
    {
     "name": "stdout",
     "output_type": "stream",
     "text": [
      "Counter({0: 564, 1: 246})\n",
      "Counter({0: 468, 1: 246, 2: 96})\n"
     ]
    }
   ],
   "source": [
    "import collections\n",
    "print(collections.Counter(AC2.fit_predict(mcaX)))\n",
    "print(collections.Counter(AC3.fit_predict(mcaX)))"
   ]
  },
  {
   "cell_type": "markdown",
   "metadata": {
    "id": "pNNtOeOBNAJE"
   },
   "source": [
    "When we use 3 clusters, observations with label 1 using AC2 still stay in the same group, which is pretty impressive. On the other hand, 93 observations leave label 0 to form their own group, label 2. Now, let's visualize the clusters to decide which number of clusters performs better."
   ]
  },
  {
   "cell_type": "code",
   "execution_count": 39,
   "metadata": {
    "id": "B6GSnkwAvNJA"
   },
   "outputs": [
    {
     "data": {
      "image/png": "[encoded data removed]",
      "text/plain": [
       "<Figure size 1080x432 with 2 Axes>"
      ]
     },
     "metadata": {
      "needs_background": "light"
     },
     "output_type": "display_data"
    }
   ],
   "source": [
    "plt.figure(figsize=(15, 6))\n",
    "\n",
    "plt.subplot(121)\n",
    "plt.scatter(mcaX.iloc[:,0], mcaX.iloc[:,1], c = AC2.labels_)\n",
    "plt.title('2 Clusters')\n",
    "\n",
    "plt.subplot(122)\n",
    "plt.scatter(mcaX.iloc[:,0], mcaX.iloc[:,1], c = AC3.labels_)\n",
    "plt.title('3 Clusters')\n",
    "\n",
    "plt.show()"
   ]
  },
  {
   "cell_type": "markdown",
   "metadata": {
    "id": "u7vuZOyKNEpT"
   },
   "source": [
    "Even though we were afraid that the 2 components wouldn't help much with \n",
    "clustering, the results are decent! It is clear that AC3 outperforms AC2 as it is able to detect the \"yellow\" group where observations stay far from each other. AC2 couldn't do that, instead it mixes the \"yellow\" group with \"purple\" observations. Now let's store these labels for later use:"
   ]
  },
  {
   "cell_type": "code",
   "execution_count": 40,
   "metadata": {
    "id": "kFdPstrONIyV"
   },
   "outputs": [],
   "source": [
    "AClabels = list(AC3.labels_)\n",
    "data_pivoted['AC_labels'] = AClabels"
   ]
  },
  {
   "cell_type": "markdown",
   "metadata": {
    "id": "-xGHMOuJi3dI"
   },
   "source": [
    "## **6 - K-means Clustering**"
   ]
  },
  {
   "cell_type": "markdown",
   "metadata": {
    "id": "M8dF_GUMsl5-"
   },
   "source": [
    "We decided to use K-means clustering as an additional method to validate the results we see from the Hirarchical clustering. As there is no particular response variable. We will be using inertial and silhouette score to find out what is the optimum number of clusters we could use."
   ]
  },
  {
   "cell_type": "code",
   "execution_count": 41,
   "metadata": {
    "id": "TPGuCf1euC6V"
   },
   "outputs": [
    {
     "data": {
      "image/png": "[encoded data removed]",
      "text/plain": [
       "<Figure size 1080x576 with 1 Axes>"
      ]
     },
     "metadata": {
      "needs_background": "light"
     },
     "output_type": "display_data"
    }
   ],
   "source": [
    "# Find best K\n",
    "from sklearn.cluster import KMeans\n",
    "\n",
    "# Fit the models with MCA transformed data\n",
    "kmeans_per_k = [KMeans(n_clusters=k, random_state=42).fit(mcaX)\n",
    "                for k in range(1, 15)]\n",
    "\n",
    "# Extract the inertia for each model\n",
    "inertias = [model.inertia_ for model in kmeans_per_k]\n",
    "\n",
    "# Plot the inertia\n",
    "plt.figure(figsize=(15, 8))\n",
    "plt.plot(range(1, 15), inertias, \"bo-\")\n",
    "plt.xlabel(\"$k$\", fontsize=15)\n",
    "plt.ylabel(\"Inertia\", fontsize=15)\n",
    "\n",
    "plt.show()"
   ]
  },
  {
   "cell_type": "code",
   "execution_count": 42,
   "metadata": {
    "id": "oNNUFiyyuDEg"
   },
   "outputs": [
    {
     "data": {
      "image/png": "[encoded data removed]",
      "text/plain": [
       "<Figure size 1080x576 with 1 Axes>"
      ]
     },
     "metadata": {
      "needs_background": "light"
     },
     "output_type": "display_data"
    }
   ],
   "source": [
    "# Import\n",
    "from sklearn.metrics import silhouette_score\n",
    "\n",
    "# Get the Silhouette scores \n",
    "silhouette_scores = [silhouette_score(mcaX, model.labels_)\n",
    "                     for model in kmeans_per_k[1:]]\n",
    "\n",
    "\n",
    "plt.figure(figsize=(15, 8))\n",
    "\n",
    "plt.plot(range(2, 15), silhouette_scores, \"bo-\")\n",
    "\n",
    "plt.xlabel(\"$k$\", fontsize=15)\n",
    "plt.ylabel(\"Silhouette score\", fontsize=15)\n",
    "\n",
    "plt.show()"
   ]
  },
  {
   "cell_type": "markdown",
   "metadata": {
    "id": "qNjQeswYuR4t"
   },
   "source": [
    "Selecting 3 clusters based on inertia and silhouette score."
   ]
  },
  {
   "cell_type": "code",
   "execution_count": 43,
   "metadata": {
    "id": "GoZEPClHuDUF"
   },
   "outputs": [
    {
     "name": "stdout",
     "output_type": "stream",
     "text": [
      "[0 1 1 2 0 0 1 1 1 1 0 0 1 2 1 1 0 1 1 0 1 1 0 2 0 1 1 1 0 1 0 1 1 1 1 1 1\n",
      " 1 1 0 1 2 1 1 1 1 1 1 1 0 1 1 1 1 1 1 1 1 0 1 1 1 1 1 1 1 0 0 0 1 0 0 0 1\n",
      " 0 0 0 0 0 1 0 1 0 1 0 0 1 0 0 2 0 0 0 0 2 0 0 0 0 2 1 1 0 0 0 1 1 0 2 1 1\n",
      " 1 2 1 1 0 0 1 0 0 2 0 1 0 1 0 2 0 0 0 2 0 0 0 0 0 0 0 0 0 2 2 2 0 0 2 2 2\n",
      " 0 1 0 1 0 0 0 0 0 2 0 0 0 0 0 2 0 0 1 0 0 1 0 0 0 2 0 0 2 0 0 0 0 0 0 0 0\n",
      " 0 0 0 0 2 1 2 0 0 2 0 0 2 0 0 2 0 0 0 2 0 0 0 2 0 0 0 0 2 0 0 0 2 0 2 2 0\n",
      " 0 2 0 0 0 2 0 0 0 0 0 0 2 0 0 2 0 0 0 0 0 0 0 0 2 0 0 0 0 0 0 0 0 2 0 0 0\n",
      " 0 0 2 0 0 0 0 0 0 0 0 0 0 0 0 2 0 0 0 0 0 0 0 0 0 0 0 0 2 0 2 0 0 0 0 2 1\n",
      " 0 0 0 0 0 0 0 0 2 0 0 0 0 0 0 1 2 0 2 1 0 2 0 0 0 1 0 0 0 0 0 0 0 0 0 0 2\n",
      " 0 2 0 0 2 0 0 0 0 0 0 0 0 0 2 0 0 0 0 0 0 0 0 0 0 2 0 0 2 0 0 2 0 0 2 0 0\n",
      " 0 0 2 0 0 0 0 2 0 0 0 0 0 0 0 0 0 2 0 0 0 2 2 0 0 0 0 0 0 0 0 0 2 0 0 0 0\n",
      " 2 0 0 0 0 0 0 0 0 0 2 2 0 0 2 0 0 2 0 0 0 0 0 0 0 0 2 0 0 2 0 2 0 0 0 0 0\n",
      " 0 2 0 2 0 0 0 2 2 0 0 2 0 0 0 0 0 0 0 0 0 0 0 0 0 2 0 0 0 0 0 0 0 0 2 0 0\n",
      " 2 0 0 0 0 0 0 0 0 0 0 0 0 0 0 0 0 0 0 2 2 2 0 0 0 0 0 0 0 0 2 0 0 0 0 0 2\n",
      " 0 0 0 0 0 0 2 0 0 0 2 2 2 0 0 2 0 0 0 0 0 0 0 0 2 2 0 0 0 0 2 0 0 2 2 0 0\n",
      " 0 2 0 0 0 0 0 2 2 2 0 0 0 0 2 0 0 2 0 0 0 2 2 0 0 0 0 2 0 2 0 0 0 0 0 0 0\n",
      " 0 2 2 2 2 2 2 2 2 0 2 2 2 2 2 2 2 2 2 2 0 2 2 2 2 2 0 2 2 2 2 0 0 0 0 0 2\n",
      " 0 2 0 2 2 2 2 2 2 2 0 0 0 1 0 0 0 0 0 0 0 0 0 0 0 2 0 0 0 2 0 0 0 0 0 0 0\n",
      " 0 0 2 0 0 0 0 0 0 0 0 0 2 2 0 0 2 0 0 0 0 0 0 0 2 0 0 0 2 0 2 0 0 0 0 0 0\n",
      " 2 0 0 0 2 2 2 2 0 2 2 2 2 2 0 2 2 2 0 2 0 2 0 0 0 0 0 0 2 2 0 0 2 0 0 0 0\n",
      " 0 0 0 0 0 0 0 2 2 2 2 2 2 2 2 0 0 0 2 2 2 2 2 2 2 0 0 0 0 0 0 0 0 0 0 0 0\n",
      " 0 0 2 0 2 0 0 0 0 0 0 0 0 0 2 0 0 2 0 2 0 0 0 0 0 0 0 0 0 0 2 2 2]\n"
     ]
    }
   ],
   "source": [
    "# Set up the parameters for K-means\n",
    "kmeans = KMeans(n_clusters=3, init ='k-means++', max_iter=500, n_init=50, random_state=42)\n",
    "\n",
    "labels = kmeans.fit_predict(mcaX)\n",
    "\n",
    "# Check the distribution of labels\n",
    "print(labels)\n",
    "\n",
    "labels = pd.DataFrame(labels, columns=['Kmeans_Label'])"
   ]
  },
  {
   "cell_type": "code",
   "execution_count": 44,
   "metadata": {
    "id": "HtuOHIQ32P4T"
   },
   "outputs": [
    {
     "data": {
      "text/plain": [
       "Text(0.5, 1.0, '3 Clusters')"
      ]
     },
     "execution_count": 44,
     "metadata": {},
     "output_type": "execute_result"
    },
    {
     "data": {
      "image/png": "[encoded data removed]",
      "text/plain": [
       "<Figure size 1080x720 with 1 Axes>"
      ]
     },
     "metadata": {
      "needs_background": "light"
     },
     "output_type": "display_data"
    }
   ],
   "source": [
    "# Visualizing the clusters\n",
    "plt.figure(figsize=(15, 10))\n",
    "\n",
    "plt.scatter(mcaX.iloc[:,0], mcaX.iloc[:,1], c = kmeans.labels_)\n",
    "plt.title('3 Clusters')"
   ]
  },
  {
   "cell_type": "code",
   "execution_count": 45,
   "metadata": {
    "id": "VgugFa4JuYKR"
   },
   "outputs": [
    {
     "data": {
      "text/html": [
       "<div>\n",
       "<style scoped>\n",
       "    .dataframe tbody tr th:only-of-type {\n",
       "        vertical-align: middle;\n",
       "    }\n",
       "\n",
       "    .dataframe tbody tr th {\n",
       "        vertical-align: top;\n",
       "    }\n",
       "\n",
       "    .dataframe thead th {\n",
       "        text-align: right;\n",
       "    }\n",
       "</style>\n",
       "<table border=\"1\" class=\"dataframe\">\n",
       "  <thead>\n",
       "    <tr style=\"text-align: right;\">\n",
       "      <th></th>\n",
       "      <th>Account Number</th>\n",
       "      <th>Organization</th>\n",
       "      <th>Country</th>\n",
       "      <th>CDP Region</th>\n",
       "      <th>1.0</th>\n",
       "      <th>1.1</th>\n",
       "      <th>1.12_1</th>\n",
       "      <th>1.12_2</th>\n",
       "      <th>1.12_3</th>\n",
       "      <th>1.12_4</th>\n",
       "      <th>...</th>\n",
       "      <th>6.4</th>\n",
       "      <th>6.6</th>\n",
       "      <th>6.9</th>\n",
       "      <th>7.0</th>\n",
       "      <th>8.0</th>\n",
       "      <th>8.1</th>\n",
       "      <th>8.6</th>\n",
       "      <th>9.3</th>\n",
       "      <th>AC_labels</th>\n",
       "      <th>Kmeans_Label</th>\n",
       "    </tr>\n",
       "  </thead>\n",
       "  <tbody>\n",
       "    <tr>\n",
       "      <th>0</th>\n",
       "      <td>1093</td>\n",
       "      <td>City of Atlanta</td>\n",
       "      <td>United States of America</td>\n",
       "      <td>North America</td>\n",
       "      <td>Yes</td>\n",
       "      <td>Yes</td>\n",
       "      <td>No</td>\n",
       "      <td>No</td>\n",
       "      <td>No</td>\n",
       "      <td>No</td>\n",
       "      <td>...</td>\n",
       "      <td>No</td>\n",
       "      <td>No</td>\n",
       "      <td>No</td>\n",
       "      <td>In progress</td>\n",
       "      <td>Yes</td>\n",
       "      <td>No</td>\n",
       "      <td>Yes</td>\n",
       "      <td>No</td>\n",
       "      <td>0</td>\n",
       "      <td>0</td>\n",
       "    </tr>\n",
       "    <tr>\n",
       "      <th>1</th>\n",
       "      <td>1184</td>\n",
       "      <td>City of Austin</td>\n",
       "      <td>United States of America</td>\n",
       "      <td>North America</td>\n",
       "      <td>Yes</td>\n",
       "      <td>Yes</td>\n",
       "      <td>Yes</td>\n",
       "      <td>Yes</td>\n",
       "      <td>Yes</td>\n",
       "      <td>No</td>\n",
       "      <td>...</td>\n",
       "      <td>Yes</td>\n",
       "      <td>Do not know</td>\n",
       "      <td>Yes</td>\n",
       "      <td>Yes</td>\n",
       "      <td>Yes</td>\n",
       "      <td>Yes</td>\n",
       "      <td>Yes</td>\n",
       "      <td>Yes - it applies to both new and existing buil...</td>\n",
       "      <td>2</td>\n",
       "      <td>1</td>\n",
       "    </tr>\n",
       "    <tr>\n",
       "      <th>2</th>\n",
       "      <td>1499</td>\n",
       "      <td>Ajuntament de Barcelona</td>\n",
       "      <td>Spain</td>\n",
       "      <td>Europe</td>\n",
       "      <td>Yes</td>\n",
       "      <td>Yes</td>\n",
       "      <td>Yes</td>\n",
       "      <td>Yes</td>\n",
       "      <td>Yes</td>\n",
       "      <td>Yes</td>\n",
       "      <td>...</td>\n",
       "      <td>No</td>\n",
       "      <td>No</td>\n",
       "      <td>Yes</td>\n",
       "      <td>Yes</td>\n",
       "      <td>Yes</td>\n",
       "      <td>Yes</td>\n",
       "      <td>Not intending to undertake</td>\n",
       "      <td>No</td>\n",
       "      <td>2</td>\n",
       "      <td>1</td>\n",
       "    </tr>\n",
       "    <tr>\n",
       "      <th>3</th>\n",
       "      <td>2028</td>\n",
       "      <td>City of Bonn</td>\n",
       "      <td>Germany</td>\n",
       "      <td>Europe</td>\n",
       "      <td>Yes</td>\n",
       "      <td>Yes</td>\n",
       "      <td>No</td>\n",
       "      <td>No</td>\n",
       "      <td>No</td>\n",
       "      <td>No</td>\n",
       "      <td>...</td>\n",
       "      <td>No</td>\n",
       "      <td>No</td>\n",
       "      <td>No</td>\n",
       "      <td>Yes</td>\n",
       "      <td>No</td>\n",
       "      <td>No</td>\n",
       "      <td>No</td>\n",
       "      <td>No</td>\n",
       "      <td>1</td>\n",
       "      <td>2</td>\n",
       "    </tr>\n",
       "    <tr>\n",
       "      <th>4</th>\n",
       "      <td>2185</td>\n",
       "      <td>Bristol City Council</td>\n",
       "      <td>United Kingdom of Great Britain and Northern I...</td>\n",
       "      <td>Europe</td>\n",
       "      <td>Yes</td>\n",
       "      <td>Yes</td>\n",
       "      <td>No</td>\n",
       "      <td>No</td>\n",
       "      <td>No</td>\n",
       "      <td>No</td>\n",
       "      <td>...</td>\n",
       "      <td>No</td>\n",
       "      <td>No</td>\n",
       "      <td>No</td>\n",
       "      <td>Yes</td>\n",
       "      <td>Yes</td>\n",
       "      <td>No</td>\n",
       "      <td>Yes</td>\n",
       "      <td>No</td>\n",
       "      <td>0</td>\n",
       "      <td>0</td>\n",
       "    </tr>\n",
       "    <tr>\n",
       "      <th>...</th>\n",
       "      <td>...</td>\n",
       "      <td>...</td>\n",
       "      <td>...</td>\n",
       "      <td>...</td>\n",
       "      <td>...</td>\n",
       "      <td>...</td>\n",
       "      <td>...</td>\n",
       "      <td>...</td>\n",
       "      <td>...</td>\n",
       "      <td>...</td>\n",
       "      <td>...</td>\n",
       "      <td>...</td>\n",
       "      <td>...</td>\n",
       "      <td>...</td>\n",
       "      <td>...</td>\n",
       "      <td>...</td>\n",
       "      <td>...</td>\n",
       "      <td>...</td>\n",
       "      <td>...</td>\n",
       "      <td>...</td>\n",
       "      <td>...</td>\n",
       "    </tr>\n",
       "    <tr>\n",
       "      <th>805</th>\n",
       "      <td>841154</td>\n",
       "      <td>Municipalidad de Independencia (Peru)</td>\n",
       "      <td>Peru</td>\n",
       "      <td>Latin America</td>\n",
       "      <td>Intending to incorporate in the next 2 years</td>\n",
       "      <td>In progress</td>\n",
       "      <td>No</td>\n",
       "      <td>No</td>\n",
       "      <td>No</td>\n",
       "      <td>No</td>\n",
       "      <td>...</td>\n",
       "      <td>No</td>\n",
       "      <td>No</td>\n",
       "      <td>No</td>\n",
       "      <td>Intending to undertake in the next 2 years</td>\n",
       "      <td>Do not know</td>\n",
       "      <td>No</td>\n",
       "      <td>Do not know</td>\n",
       "      <td>No</td>\n",
       "      <td>0</td>\n",
       "      <td>0</td>\n",
       "    </tr>\n",
       "    <tr>\n",
       "      <th>806</th>\n",
       "      <td>841155</td>\n",
       "      <td>Municipalidad de Tarapoto</td>\n",
       "      <td>Peru</td>\n",
       "      <td>Latin America</td>\n",
       "      <td>Yes</td>\n",
       "      <td>Yes</td>\n",
       "      <td>No</td>\n",
       "      <td>No</td>\n",
       "      <td>No</td>\n",
       "      <td>No</td>\n",
       "      <td>...</td>\n",
       "      <td>No</td>\n",
       "      <td>No</td>\n",
       "      <td>No</td>\n",
       "      <td>Intending to undertake in the next 2 years</td>\n",
       "      <td>In progress</td>\n",
       "      <td>No</td>\n",
       "      <td>Do not know</td>\n",
       "      <td>No</td>\n",
       "      <td>0</td>\n",
       "      <td>0</td>\n",
       "    </tr>\n",
       "    <tr>\n",
       "      <th>807</th>\n",
       "      <td>841269</td>\n",
       "      <td>Municipalidad de Montecarlo</td>\n",
       "      <td>Argentina</td>\n",
       "      <td>Latin America</td>\n",
       "      <td>Intending to incorporate in the next 2 years</td>\n",
       "      <td>Yes</td>\n",
       "      <td>No</td>\n",
       "      <td>No</td>\n",
       "      <td>No</td>\n",
       "      <td>No</td>\n",
       "      <td>...</td>\n",
       "      <td>No</td>\n",
       "      <td>No</td>\n",
       "      <td>No</td>\n",
       "      <td>Yes</td>\n",
       "      <td>No</td>\n",
       "      <td>No</td>\n",
       "      <td>No</td>\n",
       "      <td>No</td>\n",
       "      <td>1</td>\n",
       "      <td>2</td>\n",
       "    </tr>\n",
       "    <tr>\n",
       "      <th>808</th>\n",
       "      <td>841326</td>\n",
       "      <td>Municipalidad de Oro Verde</td>\n",
       "      <td>Argentina</td>\n",
       "      <td>Latin America</td>\n",
       "      <td>Do not know</td>\n",
       "      <td>Yes</td>\n",
       "      <td>No</td>\n",
       "      <td>No</td>\n",
       "      <td>No</td>\n",
       "      <td>No</td>\n",
       "      <td>...</td>\n",
       "      <td>No</td>\n",
       "      <td>No</td>\n",
       "      <td>No</td>\n",
       "      <td>Yes</td>\n",
       "      <td>No</td>\n",
       "      <td>No</td>\n",
       "      <td>No</td>\n",
       "      <td>No</td>\n",
       "      <td>1</td>\n",
       "      <td>2</td>\n",
       "    </tr>\n",
       "    <tr>\n",
       "      <th>809</th>\n",
       "      <td>841416</td>\n",
       "      <td>Municipalidad de Puerto Esperanza</td>\n",
       "      <td>Argentina</td>\n",
       "      <td>Latin America</td>\n",
       "      <td>In progress</td>\n",
       "      <td>Yes</td>\n",
       "      <td>No</td>\n",
       "      <td>No</td>\n",
       "      <td>No</td>\n",
       "      <td>No</td>\n",
       "      <td>...</td>\n",
       "      <td>No</td>\n",
       "      <td>No</td>\n",
       "      <td>No</td>\n",
       "      <td>No</td>\n",
       "      <td>No</td>\n",
       "      <td>No</td>\n",
       "      <td>No</td>\n",
       "      <td>No</td>\n",
       "      <td>1</td>\n",
       "      <td>2</td>\n",
       "    </tr>\n",
       "  </tbody>\n",
       "</table>\n",
       "<p>810 rows × 52 columns</p>\n",
       "</div>"
      ],
      "text/plain": [
       "     Account Number                           Organization  \\\n",
       "0              1093                        City of Atlanta   \n",
       "1              1184                         City of Austin   \n",
       "2              1499                Ajuntament de Barcelona   \n",
       "3              2028                           City of Bonn   \n",
       "4              2185                   Bristol City Council   \n",
       "..              ...                                    ...   \n",
       "805          841154  Municipalidad de Independencia (Peru)   \n",
       "806          841155              Municipalidad de Tarapoto   \n",
       "807          841269            Municipalidad de Montecarlo   \n",
       "808          841326             Municipalidad de Oro Verde   \n",
       "809          841416      Municipalidad de Puerto Esperanza   \n",
       "\n",
       "                                               Country     CDP Region  \\\n",
       "0                             United States of America  North America   \n",
       "1                             United States of America  North America   \n",
       "2                                                Spain         Europe   \n",
       "3                                              Germany         Europe   \n",
       "4    United Kingdom of Great Britain and Northern I...         Europe   \n",
       "..                                                 ...            ...   \n",
       "805                                               Peru  Latin America   \n",
       "806                                               Peru  Latin America   \n",
       "807                                          Argentina  Latin America   \n",
       "808                                          Argentina  Latin America   \n",
       "809                                          Argentina  Latin America   \n",
       "\n",
       "                                              1.0          1.1 1.12_1 1.12_2  \\\n",
       "0                                             Yes          Yes     No     No   \n",
       "1                                             Yes          Yes    Yes    Yes   \n",
       "2                                             Yes          Yes    Yes    Yes   \n",
       "3                                             Yes          Yes     No     No   \n",
       "4                                             Yes          Yes     No     No   \n",
       "..                                            ...          ...    ...    ...   \n",
       "805  Intending to incorporate in the next 2 years  In progress     No     No   \n",
       "806                                           Yes          Yes     No     No   \n",
       "807  Intending to incorporate in the next 2 years          Yes     No     No   \n",
       "808                                   Do not know          Yes     No     No   \n",
       "809                                   In progress          Yes     No     No   \n",
       "\n",
       "    1.12_3 1.12_4  ...  6.4          6.6  6.9  \\\n",
       "0       No     No  ...   No           No   No   \n",
       "1      Yes     No  ...  Yes  Do not know  Yes   \n",
       "2      Yes    Yes  ...   No           No  Yes   \n",
       "3       No     No  ...   No           No   No   \n",
       "4       No     No  ...   No           No   No   \n",
       "..     ...    ...  ...  ...          ...  ...   \n",
       "805     No     No  ...   No           No   No   \n",
       "806     No     No  ...   No           No   No   \n",
       "807     No     No  ...   No           No   No   \n",
       "808     No     No  ...   No           No   No   \n",
       "809     No     No  ...   No           No   No   \n",
       "\n",
       "                                            7.0          8.0  8.1  \\\n",
       "0                                   In progress          Yes   No   \n",
       "1                                           Yes          Yes  Yes   \n",
       "2                                           Yes          Yes  Yes   \n",
       "3                                           Yes           No   No   \n",
       "4                                           Yes          Yes   No   \n",
       "..                                          ...          ...  ...   \n",
       "805  Intending to undertake in the next 2 years  Do not know   No   \n",
       "806  Intending to undertake in the next 2 years  In progress   No   \n",
       "807                                         Yes           No   No   \n",
       "808                                         Yes           No   No   \n",
       "809                                          No           No   No   \n",
       "\n",
       "                            8.6  \\\n",
       "0                           Yes   \n",
       "1                           Yes   \n",
       "2    Not intending to undertake   \n",
       "3                            No   \n",
       "4                           Yes   \n",
       "..                          ...   \n",
       "805                 Do not know   \n",
       "806                 Do not know   \n",
       "807                          No   \n",
       "808                          No   \n",
       "809                          No   \n",
       "\n",
       "                                                   9.3 AC_labels Kmeans_Label  \n",
       "0                                                   No         0            0  \n",
       "1    Yes - it applies to both new and existing buil...         2            1  \n",
       "2                                                   No         2            1  \n",
       "3                                                   No         1            2  \n",
       "4                                                   No         0            0  \n",
       "..                                                 ...       ...          ...  \n",
       "805                                                 No         0            0  \n",
       "806                                                 No         0            0  \n",
       "807                                                 No         1            2  \n",
       "808                                                 No         1            2  \n",
       "809                                                 No         1            2  \n",
       "\n",
       "[810 rows x 52 columns]"
      ]
     },
     "execution_count": 45,
     "metadata": {},
     "output_type": "execute_result"
    }
   ],
   "source": [
    "# Concat the labels with the data\n",
    "new_data = pd.concat([data_pivoted, labels], axis = 1)\n",
    "new_data"
   ]
  },
  {
   "cell_type": "code",
   "execution_count": 46,
   "metadata": {
    "id": "5l_gDbRwuavW"
   },
   "outputs": [
    {
     "data": {
      "text/plain": [
       "Kmeans_Label  CDP Region                \n",
       "0             Africa                         31\n",
       "              East Asia                      11\n",
       "              Europe                        118\n",
       "              Latin America                 168\n",
       "              Middle East                     3\n",
       "              North America                 153\n",
       "              South and West Asia             9\n",
       "              Southeast Asia and Oceania     52\n",
       "1             Africa                         11\n",
       "              East Asia                       4\n",
       "              Europe                         18\n",
       "              Latin America                  10\n",
       "              Middle East                     2\n",
       "              North America                  19\n",
       "              South and West Asia             4\n",
       "              Southeast Asia and Oceania      8\n",
       "2             Africa                          6\n",
       "              East Asia                       3\n",
       "              Europe                         35\n",
       "              Latin America                 108\n",
       "              Middle East                     2\n",
       "              North America                  25\n",
       "              South and West Asia             2\n",
       "              Southeast Asia and Oceania      8\n",
       "dtype: int64"
      ]
     },
     "execution_count": 46,
     "metadata": {},
     "output_type": "execute_result"
    }
   ],
   "source": [
    "# Check the distribution over different regions\n",
    "group_by_labels = new_data.groupby(['Kmeans_Label','CDP Region']).size()\n",
    "group_by_labels"
   ]
  },
  {
   "cell_type": "code",
   "execution_count": 47,
   "metadata": {
    "id": "Vn2igkfNudqL"
   },
   "outputs": [
    {
     "data": {
      "text/html": [
       "<div>\n",
       "<style scoped>\n",
       "    .dataframe tbody tr th:only-of-type {\n",
       "        vertical-align: middle;\n",
       "    }\n",
       "\n",
       "    .dataframe tbody tr th {\n",
       "        vertical-align: top;\n",
       "    }\n",
       "\n",
       "    .dataframe thead tr th {\n",
       "        text-align: left;\n",
       "    }\n",
       "\n",
       "    .dataframe thead tr:last-of-type th {\n",
       "        text-align: right;\n",
       "    }\n",
       "</style>\n",
       "<table border=\"1\" class=\"dataframe\">\n",
       "  <thead>\n",
       "    <tr>\n",
       "      <th></th>\n",
       "      <th colspan=\"3\" halign=\"left\">1.0</th>\n",
       "      <th colspan=\"3\" halign=\"left\">1.1</th>\n",
       "      <th colspan=\"3\" halign=\"left\">1.12_1</th>\n",
       "      <th>1.12_2</th>\n",
       "      <th>...</th>\n",
       "      <th>AC_labels</th>\n",
       "      <th colspan=\"3\" halign=\"left\">Account Number</th>\n",
       "      <th colspan=\"3\" halign=\"left\">Country</th>\n",
       "      <th colspan=\"3\" halign=\"left\">Organization</th>\n",
       "    </tr>\n",
       "    <tr>\n",
       "      <th>Kmeans_Label</th>\n",
       "      <th>0</th>\n",
       "      <th>1</th>\n",
       "      <th>2</th>\n",
       "      <th>0</th>\n",
       "      <th>1</th>\n",
       "      <th>2</th>\n",
       "      <th>0</th>\n",
       "      <th>1</th>\n",
       "      <th>2</th>\n",
       "      <th>0</th>\n",
       "      <th>...</th>\n",
       "      <th>2</th>\n",
       "      <th>0</th>\n",
       "      <th>1</th>\n",
       "      <th>2</th>\n",
       "      <th>0</th>\n",
       "      <th>1</th>\n",
       "      <th>2</th>\n",
       "      <th>0</th>\n",
       "      <th>1</th>\n",
       "      <th>2</th>\n",
       "    </tr>\n",
       "    <tr>\n",
       "      <th>CDP Region</th>\n",
       "      <th></th>\n",
       "      <th></th>\n",
       "      <th></th>\n",
       "      <th></th>\n",
       "      <th></th>\n",
       "      <th></th>\n",
       "      <th></th>\n",
       "      <th></th>\n",
       "      <th></th>\n",
       "      <th></th>\n",
       "      <th></th>\n",
       "      <th></th>\n",
       "      <th></th>\n",
       "      <th></th>\n",
       "      <th></th>\n",
       "      <th></th>\n",
       "      <th></th>\n",
       "      <th></th>\n",
       "      <th></th>\n",
       "      <th></th>\n",
       "      <th></th>\n",
       "    </tr>\n",
       "  </thead>\n",
       "  <tbody>\n",
       "    <tr>\n",
       "      <th>Africa</th>\n",
       "      <td>4</td>\n",
       "      <td>1</td>\n",
       "      <td>2</td>\n",
       "      <td>4</td>\n",
       "      <td>1</td>\n",
       "      <td>1</td>\n",
       "      <td>1</td>\n",
       "      <td>2</td>\n",
       "      <td>1</td>\n",
       "      <td>2</td>\n",
       "      <td>...</td>\n",
       "      <td>1</td>\n",
       "      <td>31</td>\n",
       "      <td>11</td>\n",
       "      <td>6</td>\n",
       "      <td>19</td>\n",
       "      <td>8</td>\n",
       "      <td>6</td>\n",
       "      <td>31</td>\n",
       "      <td>11</td>\n",
       "      <td>6</td>\n",
       "    </tr>\n",
       "    <tr>\n",
       "      <th>East Asia</th>\n",
       "      <td>1</td>\n",
       "      <td>1</td>\n",
       "      <td>2</td>\n",
       "      <td>1</td>\n",
       "      <td>1</td>\n",
       "      <td>2</td>\n",
       "      <td>1</td>\n",
       "      <td>2</td>\n",
       "      <td>1</td>\n",
       "      <td>1</td>\n",
       "      <td>...</td>\n",
       "      <td>1</td>\n",
       "      <td>11</td>\n",
       "      <td>4</td>\n",
       "      <td>3</td>\n",
       "      <td>4</td>\n",
       "      <td>3</td>\n",
       "      <td>2</td>\n",
       "      <td>11</td>\n",
       "      <td>4</td>\n",
       "      <td>3</td>\n",
       "    </tr>\n",
       "    <tr>\n",
       "      <th>Europe</th>\n",
       "      <td>6</td>\n",
       "      <td>3</td>\n",
       "      <td>4</td>\n",
       "      <td>5</td>\n",
       "      <td>3</td>\n",
       "      <td>4</td>\n",
       "      <td>1</td>\n",
       "      <td>2</td>\n",
       "      <td>2</td>\n",
       "      <td>2</td>\n",
       "      <td>...</td>\n",
       "      <td>1</td>\n",
       "      <td>118</td>\n",
       "      <td>18</td>\n",
       "      <td>35</td>\n",
       "      <td>27</td>\n",
       "      <td>14</td>\n",
       "      <td>15</td>\n",
       "      <td>118</td>\n",
       "      <td>18</td>\n",
       "      <td>35</td>\n",
       "    </tr>\n",
       "    <tr>\n",
       "      <th>Latin America</th>\n",
       "      <td>6</td>\n",
       "      <td>2</td>\n",
       "      <td>5</td>\n",
       "      <td>6</td>\n",
       "      <td>2</td>\n",
       "      <td>5</td>\n",
       "      <td>1</td>\n",
       "      <td>2</td>\n",
       "      <td>1</td>\n",
       "      <td>1</td>\n",
       "      <td>...</td>\n",
       "      <td>2</td>\n",
       "      <td>168</td>\n",
       "      <td>10</td>\n",
       "      <td>108</td>\n",
       "      <td>14</td>\n",
       "      <td>6</td>\n",
       "      <td>10</td>\n",
       "      <td>168</td>\n",
       "      <td>10</td>\n",
       "      <td>108</td>\n",
       "    </tr>\n",
       "    <tr>\n",
       "      <th>Middle East</th>\n",
       "      <td>2</td>\n",
       "      <td>1</td>\n",
       "      <td>2</td>\n",
       "      <td>2</td>\n",
       "      <td>1</td>\n",
       "      <td>1</td>\n",
       "      <td>1</td>\n",
       "      <td>2</td>\n",
       "      <td>1</td>\n",
       "      <td>2</td>\n",
       "      <td>...</td>\n",
       "      <td>1</td>\n",
       "      <td>3</td>\n",
       "      <td>2</td>\n",
       "      <td>2</td>\n",
       "      <td>2</td>\n",
       "      <td>2</td>\n",
       "      <td>2</td>\n",
       "      <td>3</td>\n",
       "      <td>2</td>\n",
       "      <td>2</td>\n",
       "    </tr>\n",
       "    <tr>\n",
       "      <th>North America</th>\n",
       "      <td>6</td>\n",
       "      <td>2</td>\n",
       "      <td>4</td>\n",
       "      <td>5</td>\n",
       "      <td>1</td>\n",
       "      <td>3</td>\n",
       "      <td>2</td>\n",
       "      <td>2</td>\n",
       "      <td>1</td>\n",
       "      <td>2</td>\n",
       "      <td>...</td>\n",
       "      <td>1</td>\n",
       "      <td>153</td>\n",
       "      <td>19</td>\n",
       "      <td>25</td>\n",
       "      <td>2</td>\n",
       "      <td>2</td>\n",
       "      <td>2</td>\n",
       "      <td>153</td>\n",
       "      <td>19</td>\n",
       "      <td>25</td>\n",
       "    </tr>\n",
       "    <tr>\n",
       "      <th>South and West Asia</th>\n",
       "      <td>3</td>\n",
       "      <td>2</td>\n",
       "      <td>2</td>\n",
       "      <td>4</td>\n",
       "      <td>2</td>\n",
       "      <td>2</td>\n",
       "      <td>1</td>\n",
       "      <td>1</td>\n",
       "      <td>1</td>\n",
       "      <td>2</td>\n",
       "      <td>...</td>\n",
       "      <td>1</td>\n",
       "      <td>9</td>\n",
       "      <td>4</td>\n",
       "      <td>2</td>\n",
       "      <td>3</td>\n",
       "      <td>1</td>\n",
       "      <td>1</td>\n",
       "      <td>9</td>\n",
       "      <td>4</td>\n",
       "      <td>2</td>\n",
       "    </tr>\n",
       "    <tr>\n",
       "      <th>Southeast Asia and Oceania</th>\n",
       "      <td>6</td>\n",
       "      <td>1</td>\n",
       "      <td>2</td>\n",
       "      <td>5</td>\n",
       "      <td>2</td>\n",
       "      <td>2</td>\n",
       "      <td>1</td>\n",
       "      <td>2</td>\n",
       "      <td>1</td>\n",
       "      <td>2</td>\n",
       "      <td>...</td>\n",
       "      <td>1</td>\n",
       "      <td>52</td>\n",
       "      <td>8</td>\n",
       "      <td>8</td>\n",
       "      <td>7</td>\n",
       "      <td>7</td>\n",
       "      <td>3</td>\n",
       "      <td>52</td>\n",
       "      <td>8</td>\n",
       "      <td>8</td>\n",
       "    </tr>\n",
       "  </tbody>\n",
       "</table>\n",
       "<p>8 rows × 150 columns</p>\n",
       "</div>"
      ],
      "text/plain": [
       "                           1.0       1.1       1.12_1       1.12_2  ...  \\\n",
       "Kmeans_Label                 0  1  2   0  1  2      0  1  2      0  ...   \n",
       "CDP Region                                                          ...   \n",
       "Africa                       4  1  2   4  1  1      1  2  1      2  ...   \n",
       "East Asia                    1  1  2   1  1  2      1  2  1      1  ...   \n",
       "Europe                       6  3  4   5  3  4      1  2  2      2  ...   \n",
       "Latin America                6  2  5   6  2  5      1  2  1      1  ...   \n",
       "Middle East                  2  1  2   2  1  1      1  2  1      2  ...   \n",
       "North America                6  2  4   5  1  3      2  2  1      2  ...   \n",
       "South and West Asia          3  2  2   4  2  2      1  1  1      2  ...   \n",
       "Southeast Asia and Oceania   6  1  2   5  2  2      1  2  1      2  ...   \n",
       "\n",
       "                           AC_labels Account Number          Country          \\\n",
       "Kmeans_Label                       2              0   1    2       0   1   2   \n",
       "CDP Region                                                                     \n",
       "Africa                             1             31  11    6      19   8   6   \n",
       "East Asia                          1             11   4    3       4   3   2   \n",
       "Europe                             1            118  18   35      27  14  15   \n",
       "Latin America                      2            168  10  108      14   6  10   \n",
       "Middle East                        1              3   2    2       2   2   2   \n",
       "North America                      1            153  19   25       2   2   2   \n",
       "South and West Asia                1              9   4    2       3   1   1   \n",
       "Southeast Asia and Oceania         1             52   8    8       7   7   3   \n",
       "\n",
       "                           Organization           \n",
       "Kmeans_Label                          0   1    2  \n",
       "CDP Region                                        \n",
       "Africa                               31  11    6  \n",
       "East Asia                            11   4    3  \n",
       "Europe                              118  18   35  \n",
       "Latin America                       168  10  108  \n",
       "Middle East                           3   2    2  \n",
       "North America                       153  19   25  \n",
       "South and West Asia                   9   4    2  \n",
       "Southeast Asia and Oceania           52   8    8  \n",
       "\n",
       "[8 rows x 150 columns]"
      ]
     },
     "execution_count": 47,
     "metadata": {},
     "output_type": "execute_result"
    }
   ],
   "source": [
    "# Check the distribution over the rest of the data.\n",
    "data_label_pivot = pd.pivot_table(new_data, index=[\"CDP Region\"], columns=[\"Kmeans_Label\"], aggfunc=lambda x: len(x.unique()))\n",
    "data_label_pivot"
   ]
  },
  {
   "cell_type": "code",
   "execution_count": 48,
   "metadata": {
    "id": "Vm83pc_2mAUq"
   },
   "outputs": [
    {
     "name": "stdout",
     "output_type": "stream",
     "text": [
      "Counter({0: 545, 2: 189, 1: 76})\n"
     ]
    }
   ],
   "source": [
    "print(collections.Counter(kmeans.fit_predict(mcaX))) #to see frequencies of each label"
   ]
  },
  {
   "cell_type": "markdown",
   "metadata": {
    "id": "UPyIZhIBpZXU"
   },
   "source": [
    "Looks like K-means' '1' label is actually Hierarchical's '2' label."
   ]
  },
  {
   "cell_type": "markdown",
   "metadata": {
    "id": "cXpj5e6BhROi"
   },
   "source": [
    "## **7 - Conclusion**"
   ]
  },
  {
   "cell_type": "markdown",
   "metadata": {
    "id": "ze_5NlDO4-2z"
   },
   "source": [
    "The Exploratory Analysis shows that climate change and water security are the environmental issues of particular concern. Regardless of the region, a large percentage of cities say they have a clear plan for climate change or that one is underway. However, not as many cities reported a decrease in emissions that contribute to climate change, suggesting that there is still room for improvement.\n",
    "\n",
    "In terms of water security, all regions responded that it could be a risk. However, what is considered a risk differs from region to region, making it difficult to take uniform measures. In Africa and Southeast Asia and Oceania, drought was ranked as one of the top risks, suggesting the need to consider it in relation to climate change."
   ]
  },
  {
   "cell_type": "markdown",
   "metadata": {
    "id": "SbCYmhIcpoME"
   },
   "source": [
    "Now that we are done with clustering, the next step is to make sense out of the results. Usually, if the data is continuous or categorical that follows order (so we can ordinally encode the labels), we can use cluster's means to interpret the cluster labels. However, since our data is entirely categorical and do not necessarily follow any orders (even though some does - ie. 'Yes', 'No', 'In progress' questions), we pick out 3 questions about cities' plans for environmental issues in order to see how different groups respond to these questions. From this, we would accordingly intepret the labels. The 3 questions we selected are: 3.1 (plans for climate changes adaptation), 5.5 (plans for emission reduction), and 8.0 (usage of renewable energy). Since we initially choose Hierarchichal Clustering for our data, we will interpret AC's labels only. K-means labels follow a similar patterns as Agglomerate Clustering, hence we expect the intepretation to be the same."
   ]
  },
  {
   "cell_type": "code",
   "execution_count": 49,
   "metadata": {
    "id": "28eRRz6ChaLS"
   },
   "outputs": [
    {
     "data": {
      "text/html": [
       "<div>\n",
       "<style scoped>\n",
       "    .dataframe tbody tr th:only-of-type {\n",
       "        vertical-align: middle;\n",
       "    }\n",
       "\n",
       "    .dataframe tbody tr th {\n",
       "        vertical-align: top;\n",
       "    }\n",
       "\n",
       "    .dataframe thead th {\n",
       "        text-align: right;\n",
       "    }\n",
       "</style>\n",
       "<table border=\"1\" class=\"dataframe\">\n",
       "  <thead>\n",
       "    <tr style=\"text-align: right;\">\n",
       "      <th></th>\n",
       "      <th>5.5</th>\n",
       "      <th>3.1</th>\n",
       "      <th>8.0</th>\n",
       "      <th>AC_labels</th>\n",
       "    </tr>\n",
       "  </thead>\n",
       "  <tbody>\n",
       "    <tr>\n",
       "      <th>0</th>\n",
       "      <td>Yes</td>\n",
       "      <td>Yes</td>\n",
       "      <td>Yes</td>\n",
       "      <td>0</td>\n",
       "    </tr>\n",
       "    <tr>\n",
       "      <th>4</th>\n",
       "      <td>In progress</td>\n",
       "      <td>In progress</td>\n",
       "      <td>Yes</td>\n",
       "      <td>0</td>\n",
       "    </tr>\n",
       "    <tr>\n",
       "      <th>5</th>\n",
       "      <td>Yes</td>\n",
       "      <td>Intending to undertake in the next 2 years</td>\n",
       "      <td>Yes</td>\n",
       "      <td>0</td>\n",
       "    </tr>\n",
       "    <tr>\n",
       "      <th>11</th>\n",
       "      <td>In progress</td>\n",
       "      <td>In progress</td>\n",
       "      <td>Yes</td>\n",
       "      <td>0</td>\n",
       "    </tr>\n",
       "    <tr>\n",
       "      <th>16</th>\n",
       "      <td>Yes</td>\n",
       "      <td>In progress</td>\n",
       "      <td>Yes</td>\n",
       "      <td>0</td>\n",
       "    </tr>\n",
       "    <tr>\n",
       "      <th>...</th>\n",
       "      <td>...</td>\n",
       "      <td>...</td>\n",
       "      <td>...</td>\n",
       "      <td>...</td>\n",
       "    </tr>\n",
       "    <tr>\n",
       "      <th>802</th>\n",
       "      <td>Do not know</td>\n",
       "      <td>Do not know</td>\n",
       "      <td>Do not know</td>\n",
       "      <td>0</td>\n",
       "    </tr>\n",
       "    <tr>\n",
       "      <th>803</th>\n",
       "      <td>Intending to undertake in the next 2 years</td>\n",
       "      <td>Intending to undertake in the next 2 years</td>\n",
       "      <td>Do not know</td>\n",
       "      <td>0</td>\n",
       "    </tr>\n",
       "    <tr>\n",
       "      <th>804</th>\n",
       "      <td>Intending to undertake in the next 2 years</td>\n",
       "      <td>Intending to undertake in the next 2 years</td>\n",
       "      <td>Intending to undertake in the next 2 years</td>\n",
       "      <td>0</td>\n",
       "    </tr>\n",
       "    <tr>\n",
       "      <th>805</th>\n",
       "      <td>In progress</td>\n",
       "      <td>Intending to undertake in the next 2 years</td>\n",
       "      <td>Do not know</td>\n",
       "      <td>0</td>\n",
       "    </tr>\n",
       "    <tr>\n",
       "      <th>806</th>\n",
       "      <td>Intending to undertake in the next 2 years</td>\n",
       "      <td>In progress</td>\n",
       "      <td>In progress</td>\n",
       "      <td>0</td>\n",
       "    </tr>\n",
       "  </tbody>\n",
       "</table>\n",
       "<p>468 rows × 4 columns</p>\n",
       "</div>"
      ],
      "text/plain": [
       "                                            5.5  \\\n",
       "0                                           Yes   \n",
       "4                                   In progress   \n",
       "5                                           Yes   \n",
       "11                                  In progress   \n",
       "16                                          Yes   \n",
       "..                                          ...   \n",
       "802                                 Do not know   \n",
       "803  Intending to undertake in the next 2 years   \n",
       "804  Intending to undertake in the next 2 years   \n",
       "805                                 In progress   \n",
       "806  Intending to undertake in the next 2 years   \n",
       "\n",
       "                                            3.1  \\\n",
       "0                                           Yes   \n",
       "4                                   In progress   \n",
       "5    Intending to undertake in the next 2 years   \n",
       "11                                  In progress   \n",
       "16                                  In progress   \n",
       "..                                          ...   \n",
       "802                                 Do not know   \n",
       "803  Intending to undertake in the next 2 years   \n",
       "804  Intending to undertake in the next 2 years   \n",
       "805  Intending to undertake in the next 2 years   \n",
       "806                                 In progress   \n",
       "\n",
       "                                            8.0  AC_labels  \n",
       "0                                           Yes          0  \n",
       "4                                           Yes          0  \n",
       "5                                           Yes          0  \n",
       "11                                          Yes          0  \n",
       "16                                          Yes          0  \n",
       "..                                          ...        ...  \n",
       "802                                 Do not know          0  \n",
       "803                                 Do not know          0  \n",
       "804  Intending to undertake in the next 2 years          0  \n",
       "805                                 Do not know          0  \n",
       "806                                 In progress          0  \n",
       "\n",
       "[468 rows x 4 columns]"
      ]
     },
     "execution_count": 49,
     "metadata": {},
     "output_type": "execute_result"
    }
   ],
   "source": [
    "new_data[(new_data['AC_labels'] == 0)][['5.5','3.1','8.0','AC_labels']]"
   ]
  },
  {
   "cell_type": "markdown",
   "metadata": {
    "id": "I2yJsufBqCO_"
   },
   "source": [
    "We can see that group 0 is a mix of 'In progress', 'Intending to undertake in the next 2 years' and 'Yes' when asked about plans for environmental issues. Thus, this group can be categorized as cities that are in the planning process or will launch their environment initiatives in the near future."
   ]
  },
  {
   "cell_type": "code",
   "execution_count": 50,
   "metadata": {
    "id": "DvvvGye5COSU"
   },
   "outputs": [
    {
     "data": {
      "text/html": [
       "<div>\n",
       "<style scoped>\n",
       "    .dataframe tbody tr th:only-of-type {\n",
       "        vertical-align: middle;\n",
       "    }\n",
       "\n",
       "    .dataframe tbody tr th {\n",
       "        vertical-align: top;\n",
       "    }\n",
       "\n",
       "    .dataframe thead th {\n",
       "        text-align: right;\n",
       "    }\n",
       "</style>\n",
       "<table border=\"1\" class=\"dataframe\">\n",
       "  <thead>\n",
       "    <tr style=\"text-align: right;\">\n",
       "      <th></th>\n",
       "      <th>5.5</th>\n",
       "      <th>3.1</th>\n",
       "      <th>8.0</th>\n",
       "      <th>AC_labels</th>\n",
       "    </tr>\n",
       "  </thead>\n",
       "  <tbody>\n",
       "    <tr>\n",
       "      <th>3</th>\n",
       "      <td>No</td>\n",
       "      <td>Yes</td>\n",
       "      <td>No</td>\n",
       "      <td>1</td>\n",
       "    </tr>\n",
       "    <tr>\n",
       "      <th>10</th>\n",
       "      <td>Yes</td>\n",
       "      <td>Yes</td>\n",
       "      <td>Yes</td>\n",
       "      <td>1</td>\n",
       "    </tr>\n",
       "    <tr>\n",
       "      <th>13</th>\n",
       "      <td>Do not know</td>\n",
       "      <td>Intending to undertake in the next 2 years</td>\n",
       "      <td>No</td>\n",
       "      <td>1</td>\n",
       "    </tr>\n",
       "    <tr>\n",
       "      <th>19</th>\n",
       "      <td>Yes</td>\n",
       "      <td>Yes</td>\n",
       "      <td>No</td>\n",
       "      <td>1</td>\n",
       "    </tr>\n",
       "    <tr>\n",
       "      <th>23</th>\n",
       "      <td>No</td>\n",
       "      <td>Yes</td>\n",
       "      <td>No</td>\n",
       "      <td>1</td>\n",
       "    </tr>\n",
       "    <tr>\n",
       "      <th>...</th>\n",
       "      <td>...</td>\n",
       "      <td>...</td>\n",
       "      <td>...</td>\n",
       "      <td>...</td>\n",
       "    </tr>\n",
       "    <tr>\n",
       "      <th>794</th>\n",
       "      <td>Do not know</td>\n",
       "      <td>No</td>\n",
       "      <td>Do not know</td>\n",
       "      <td>1</td>\n",
       "    </tr>\n",
       "    <tr>\n",
       "      <th>796</th>\n",
       "      <td>No</td>\n",
       "      <td>Do not know</td>\n",
       "      <td>No</td>\n",
       "      <td>1</td>\n",
       "    </tr>\n",
       "    <tr>\n",
       "      <th>807</th>\n",
       "      <td>In progress</td>\n",
       "      <td>Intending to undertake in the next 2 years</td>\n",
       "      <td>No</td>\n",
       "      <td>1</td>\n",
       "    </tr>\n",
       "    <tr>\n",
       "      <th>808</th>\n",
       "      <td>Yes</td>\n",
       "      <td>Yes</td>\n",
       "      <td>No</td>\n",
       "      <td>1</td>\n",
       "    </tr>\n",
       "    <tr>\n",
       "      <th>809</th>\n",
       "      <td>Intending to undertake in the next 2 years</td>\n",
       "      <td>Intending to undertake in the next 2 years</td>\n",
       "      <td>No</td>\n",
       "      <td>1</td>\n",
       "    </tr>\n",
       "  </tbody>\n",
       "</table>\n",
       "<p>246 rows × 4 columns</p>\n",
       "</div>"
      ],
      "text/plain": [
       "                                            5.5  \\\n",
       "3                                            No   \n",
       "10                                          Yes   \n",
       "13                                  Do not know   \n",
       "19                                          Yes   \n",
       "23                                           No   \n",
       "..                                          ...   \n",
       "794                                 Do not know   \n",
       "796                                          No   \n",
       "807                                 In progress   \n",
       "808                                         Yes   \n",
       "809  Intending to undertake in the next 2 years   \n",
       "\n",
       "                                            3.1          8.0  AC_labels  \n",
       "3                                           Yes           No          1  \n",
       "10                                          Yes          Yes          1  \n",
       "13   Intending to undertake in the next 2 years           No          1  \n",
       "19                                          Yes           No          1  \n",
       "23                                          Yes           No          1  \n",
       "..                                          ...          ...        ...  \n",
       "794                                          No  Do not know          1  \n",
       "796                                 Do not know           No          1  \n",
       "807  Intending to undertake in the next 2 years           No          1  \n",
       "808                                         Yes           No          1  \n",
       "809  Intending to undertake in the next 2 years           No          1  \n",
       "\n",
       "[246 rows x 4 columns]"
      ]
     },
     "execution_count": 50,
     "metadata": {},
     "output_type": "execute_result"
    }
   ],
   "source": [
    "new_data[(new_data['AC_labels'] == 1)][['5.5','3.1','8.0','AC_labels']]"
   ]
  },
  {
   "cell_type": "markdown",
   "metadata": {
    "id": "PQEFq6hWCScL"
   },
   "source": [
    "In this group, there are more No when cities get asked about their plans for environmental changes or usage of renewable energy. This implies that this group is about cities that have little effort in tackling environmental issues."
   ]
  },
  {
   "cell_type": "code",
   "execution_count": 51,
   "metadata": {
    "id": "A-5WZBxmCRFE"
   },
   "outputs": [
    {
     "data": {
      "text/html": [
       "<div>\n",
       "<style scoped>\n",
       "    .dataframe tbody tr th:only-of-type {\n",
       "        vertical-align: middle;\n",
       "    }\n",
       "\n",
       "    .dataframe tbody tr th {\n",
       "        vertical-align: top;\n",
       "    }\n",
       "\n",
       "    .dataframe thead th {\n",
       "        text-align: right;\n",
       "    }\n",
       "</style>\n",
       "<table border=\"1\" class=\"dataframe\">\n",
       "  <thead>\n",
       "    <tr style=\"text-align: right;\">\n",
       "      <th></th>\n",
       "      <th>5.5</th>\n",
       "      <th>3.1</th>\n",
       "      <th>8.0</th>\n",
       "      <th>AC_labels</th>\n",
       "    </tr>\n",
       "  </thead>\n",
       "  <tbody>\n",
       "    <tr>\n",
       "      <th>1</th>\n",
       "      <td>Yes</td>\n",
       "      <td>Yes</td>\n",
       "      <td>Yes</td>\n",
       "      <td>2</td>\n",
       "    </tr>\n",
       "    <tr>\n",
       "      <th>2</th>\n",
       "      <td>Yes</td>\n",
       "      <td>Yes</td>\n",
       "      <td>Yes</td>\n",
       "      <td>2</td>\n",
       "    </tr>\n",
       "    <tr>\n",
       "      <th>6</th>\n",
       "      <td>Yes</td>\n",
       "      <td>Yes</td>\n",
       "      <td>Yes</td>\n",
       "      <td>2</td>\n",
       "    </tr>\n",
       "    <tr>\n",
       "      <th>7</th>\n",
       "      <td>Yes</td>\n",
       "      <td>Yes</td>\n",
       "      <td>Yes</td>\n",
       "      <td>2</td>\n",
       "    </tr>\n",
       "    <tr>\n",
       "      <th>8</th>\n",
       "      <td>Yes</td>\n",
       "      <td>Yes</td>\n",
       "      <td>Yes</td>\n",
       "      <td>2</td>\n",
       "    </tr>\n",
       "    <tr>\n",
       "      <th>...</th>\n",
       "      <td>...</td>\n",
       "      <td>...</td>\n",
       "      <td>...</td>\n",
       "      <td>...</td>\n",
       "    </tr>\n",
       "    <tr>\n",
       "      <th>472</th>\n",
       "      <td>Yes</td>\n",
       "      <td>Yes</td>\n",
       "      <td>In progress</td>\n",
       "      <td>2</td>\n",
       "    </tr>\n",
       "    <tr>\n",
       "      <th>590</th>\n",
       "      <td>Yes</td>\n",
       "      <td>Yes</td>\n",
       "      <td>Yes</td>\n",
       "      <td>2</td>\n",
       "    </tr>\n",
       "    <tr>\n",
       "      <th>631</th>\n",
       "      <td>Yes</td>\n",
       "      <td>Yes</td>\n",
       "      <td>Yes</td>\n",
       "      <td>2</td>\n",
       "    </tr>\n",
       "    <tr>\n",
       "      <th>642</th>\n",
       "      <td>Yes</td>\n",
       "      <td>Yes</td>\n",
       "      <td>Yes</td>\n",
       "      <td>2</td>\n",
       "    </tr>\n",
       "    <tr>\n",
       "      <th>780</th>\n",
       "      <td>Yes</td>\n",
       "      <td>In progress</td>\n",
       "      <td>Intending to undertake in the next 2 years</td>\n",
       "      <td>2</td>\n",
       "    </tr>\n",
       "  </tbody>\n",
       "</table>\n",
       "<p>96 rows × 4 columns</p>\n",
       "</div>"
      ],
      "text/plain": [
       "     5.5          3.1                                         8.0  AC_labels\n",
       "1    Yes          Yes                                         Yes          2\n",
       "2    Yes          Yes                                         Yes          2\n",
       "6    Yes          Yes                                         Yes          2\n",
       "7    Yes          Yes                                         Yes          2\n",
       "8    Yes          Yes                                         Yes          2\n",
       "..   ...          ...                                         ...        ...\n",
       "472  Yes          Yes                                 In progress          2\n",
       "590  Yes          Yes                                         Yes          2\n",
       "631  Yes          Yes                                         Yes          2\n",
       "642  Yes          Yes                                         Yes          2\n",
       "780  Yes  In progress  Intending to undertake in the next 2 years          2\n",
       "\n",
       "[96 rows x 4 columns]"
      ]
     },
     "execution_count": 51,
     "metadata": {},
     "output_type": "execute_result"
    }
   ],
   "source": [
    "new_data[(new_data['AC_labels'] == 2)][['5.5','3.1','8.0','AC_labels']]"
   ]
  },
  {
   "cell_type": "markdown",
   "metadata": {
    "id": "HBtzA7y5CS39"
   },
   "source": [
    "Lastly, we can see a lot of 'Yes' with some mix of 'In progress' or 'Intending to undertake in the next 2 years'. This indicates that this group are the most proactive group in which cities have already launched initiatives (or will launch soon) to deal with environmental challenges."
   ]
  },
  {
   "cell_type": "markdown",
   "metadata": {
    "id": "VJgg8Rsz82YC"
   },
   "source": [
    "#### Reflections \n",
    "\n",
    "This project was a good learning experience as we could work on an on-going Kaggle competition data. This was a challenging task for all of us as the data provided was raw in nature. This gave us an opportunity to understand how to refine the available data and make the best out of it. Understanding the data and what needs to be done with it is key for any further analysis. From this project we learned how to lay the ground work for more sophesiticated analysis. We would like to continue working on it, given more time, to find what are the performance indicators of environmental issues from the CDP survey data."
   ]
  },
  {
   "cell_type": "code",
   "execution_count": null,
   "metadata": {
    "id": "-DRmC8n9_1by"
   },
   "outputs": [],
   "source": []
  }
 ],
 "metadata": {
  "colab": {
   "collapsed_sections": [],
   "name": "FinalProject.ipynb",
   "provenance": [],
   "toc_visible": true
  },
  "kernelspec": {
   "display_name": "Python 3",
   "language": "python",
   "name": "python3"
  },
  "language_info": {
   "codemirror_mode": {
    "name": "ipython",
    "version": 3
   },
   "file_extension": ".py",
   "mimetype": "text/x-python",
   "name": "python",
   "nbconvert_exporter": "python",
   "pygments_lexer": "ipython3",
   "version": "3.7.6"
  }
 },
 "nbformat": 4,
 "nbformat_minor": 1
}
